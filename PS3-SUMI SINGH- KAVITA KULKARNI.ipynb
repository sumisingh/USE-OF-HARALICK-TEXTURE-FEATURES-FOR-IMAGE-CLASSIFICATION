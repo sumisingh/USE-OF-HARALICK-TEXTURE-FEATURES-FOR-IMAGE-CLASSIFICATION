{
 "cells": [
  {
   "cell_type": "markdown",
   "metadata": {},
   "source": [
    "# BIOMEDIN 260/RAD260: Problem Set 3 - Mammogram Project\n",
    "\n",
    "## Spring 2019"
   ]
  },
  {
   "cell_type": "markdown",
   "metadata": {},
   "source": [
    "## Name 1:\n",
    "SUMI SINGH"
   ]
  },
  {
   "cell_type": "markdown",
   "metadata": {},
   "source": [
    "## Name 2:\n",
    "\n",
    "KAVITA KULKARNI"
   ]
  },
  {
   "cell_type": "markdown",
   "metadata": {},
   "source": [
    "## Introduction\n",
    "\n",
    "Breast cancer has the highest incidence and second highest mortality rate for women in the US.\n",
    "\n",
    "Your task is to utilize machine learning to study mammograms in any way you want (e.g. classification, segmentation) as long as you justify why it is useful to do whatever it is you want to do. Turning in a deep dream assignment using mammograms might be amusing, for example, but not so useful to patients. That being said, choose something that interests you. As the adage goes, \"do what you love, and you’ll never have to work another day in your life, at least in BMI 260.\"\n",
    "\n",
    "Treat this as a mini-project. We highly encourage working with 1 other person, possibly someone in your main project team. \n",
    "\n",
    "In addition to the mammograms themselves, the dataset includes \"ground-truth\" segmentations and `mass_case_description_train_set.csv`, which contains metadata information about mass shapes, mass margins, assessment numbers, pathology diagnoses, and subtlety in the data. Take some time to research what all of these different fields mean and how you might utilize them in your work. You dont need to use all of what is provided to you.\n",
    "\n",
    "Some ideas:\n",
    "\n",
    "1. Use the ROI’s or segmentations to extract features, and then train a classifier based on those features using the algorithms presented to you in the machine learning lectures (doesn't need to use deep learning).\n",
    "\n",
    "2. Use convolutional neural networks. Feel free to use any of the code we went over in class or use your own (custom code, sklearn, keras, Tensorflow etc.). If you dont want to place helper functions and classes into this notebook, place them in a `.py` file in the same folder called `helperfunctions.py` and import them into this notebook.\n",
    "\n",
    "## Data\n",
    "\n",
    "The data is here:\n",
    "\n",
    "https://wiki.cancerimagingarchive.net/display/Public/CBIS-DDSM\n",
    "\n",
    "## Grading and Submission\n",
    "\n",
    "This assignment has 3 components: code, figures (outputs/analyses of your code), and a write-up detailing your mini-project. You will be graded on these categories.\n",
    "\n",
    "If you're OK with Python or R, please place all three parts into this notebook/.Rmd file that we have provided where indicated. We have written template sections for you to follow for simplicity/completeness. When you're done, save as a `.pdf` (please knit to `.pdf` if you are using `.Rmd`, or knit to `.html` and use a browser's \"Print\" function to convert to `.pdf`).\n",
    "\n",
    "If you don't like Python OR R, we will allow you to use a different language, but please turn your assignment in with: 1) a folder with all your code, 2) a folder with all your figures, and 3) a `.tex`/`.doc`/`.pdf` file with a write-up."
   ]
  },
  {
   "cell_type": "markdown",
   "metadata": {},
   "source": [
    "## AUTOMATED FUZZY-C CLUSTERING BASED IMAGE SEGMENTATION AND USE OF HARALICK TEXTURE FEATURES FOR IMAGE CLASSIFICATION "
   ]
  },
  {
   "cell_type": "markdown",
   "metadata": {},
   "source": [
    "**1. Describe what you are doing and why it matters to patients using at least one citation.**"
   ]
  },
  {
   "cell_type": "markdown",
   "metadata": {},
   "source": [
    "**2. Describe the relevant statistics of the data. How were the images taken? How were they labeled? What is the class balance and majority classifier accuracy? How will you divide the data into testing, training and validation sets?**"
   ]
  },
  {
   "cell_type": "markdown",
   "metadata": {},
   "source": [
    "**3. Describe your data pipeline (how is the data scrubbed, normalized, stored, and fed to the model for training?).**"
   ]
  },
  {
   "cell_type": "markdown",
   "metadata": {},
   "source": [
    "**4. Explain how the model you chose works alongside the code for it. Add at least one technical citation to give credit where credit is due.**"
   ]
  },
  {
   "cell_type": "markdown",
   "metadata": {},
   "source": [
    "**5. There are many ways to do training. Take us through how you do it (e.g. \"We used early stopping and stopped when validation loss increased twice in a row.\").**"
   ]
  },
  {
   "cell_type": "markdown",
   "metadata": {},
   "source": [
    "**6. Make a figure displaying your results.**"
   ]
  },
  {
   "cell_type": "markdown",
   "metadata": {},
   "source": [
    "**7. Discuss pros and cons of your method and what you might have done differently now that you've tried or would try if you had more time.**"
   ]
  },
  {
   "cell_type": "markdown",
   "metadata": {},
   "source": [
    "SEE WRITTEN ANSWER (DESCRIPTION) for 1-7 IN ATTACHED APPENDIX.\n",
    "\n",
    "**************************"
   ]
  },
  {
   "cell_type": "markdown",
   "metadata": {},
   "source": [
    "*****************\n",
    "KNOWING THE DATA\n",
    "EXTRACTING SOME RELEVANT STATISTICS ON THE GIVEN DATA\n",
    "***************"
   ]
  },
  {
   "cell_type": "code",
   "execution_count": 3,
   "metadata": {},
   "outputs": [],
   "source": [
    "import os\n",
    "import numpy as np\n",
    "import numpy.random as rng\n",
    "import pandas as pd\n",
    "import scipy.misc\n",
    "import math\n",
    "import cv2\n",
    "pd.set_option('display.max_columns', 500)\n",
    "\n",
    "from matplotlib import pyplot as plt\n",
    "\n",
    "%matplotlib inline\n",
    "\n",
    "## Ignore warning\n",
    "import warnings\n",
    "warnings.filterwarnings('ignore')\n",
    "\n",
    "warnings.simplefilter('ignore', category=ImportWarning)\n",
    "\n",
    "import sklearn\n",
    "from sklearn import cluster"
   ]
  },
  {
   "cell_type": "code",
   "execution_count": 19,
   "metadata": {},
   "outputs": [
    {
     "name": "stdout",
     "output_type": "stream",
     "text": [
      "14 columns and 1318 rows\n"
     ]
    },
    {
     "data": {
      "text/html": [
       "<div>\n",
       "<style scoped>\n",
       "    .dataframe tbody tr th:only-of-type {\n",
       "        vertical-align: middle;\n",
       "    }\n",
       "\n",
       "    .dataframe tbody tr th {\n",
       "        vertical-align: top;\n",
       "    }\n",
       "\n",
       "    .dataframe thead th {\n",
       "        text-align: right;\n",
       "    }\n",
       "</style>\n",
       "<table border=\"1\" class=\"dataframe\">\n",
       "  <thead>\n",
       "    <tr style=\"text-align: right;\">\n",
       "      <th></th>\n",
       "      <th>patient_id</th>\n",
       "      <th>breast_density</th>\n",
       "      <th>left or right breast</th>\n",
       "      <th>image view</th>\n",
       "      <th>abnormality id</th>\n",
       "      <th>abnormality type</th>\n",
       "      <th>mass shape</th>\n",
       "      <th>mass margins</th>\n",
       "      <th>assessment</th>\n",
       "      <th>pathology</th>\n",
       "      <th>subtlety</th>\n",
       "      <th>image file path</th>\n",
       "      <th>cropped image file path</th>\n",
       "      <th>ROI mask file path</th>\n",
       "    </tr>\n",
       "  </thead>\n",
       "  <tbody>\n",
       "    <tr>\n",
       "      <th>0</th>\n",
       "      <td>P_00001</td>\n",
       "      <td>3</td>\n",
       "      <td>LEFT</td>\n",
       "      <td>CC</td>\n",
       "      <td>1</td>\n",
       "      <td>mass</td>\n",
       "      <td>IRREGULAR-ARCHITECTURAL_DISTORTION</td>\n",
       "      <td>SPICULATED</td>\n",
       "      <td>4</td>\n",
       "      <td>MALIGNANT</td>\n",
       "      <td>4</td>\n",
       "      <td>Mass-Training_P_00001_LEFT_CC/1.3.6.1.4.1.9590.100.1.2.422112722213189649807611434612228974994/1.3.6.1.4.1.9590.100.1.2.342386194811267636608694132590482924515/000000.dcm</td>\n",
       "      <td>Mass-Training_P_00001_LEFT_CC_1/1.3.6.1.4.1.9590.100.1.2.108268213011361124203859148071588939106/1.3.6.1.4.1.9590.100.1.2.296736403313792599626368780122205399650/000000.dcm</td>\n",
       "      <td>Mass-Training_P_00001_LEFT_CC_1/1.3.6.1.4.1.9590.100.1.2.108268213011361124203859148071588939106/1.3.6.1.4.1.9590.100.1.2.296736403313792599626368780122205399650/000001.dcm\\n</td>\n",
       "    </tr>\n",
       "    <tr>\n",
       "      <th>1</th>\n",
       "      <td>P_00001</td>\n",
       "      <td>3</td>\n",
       "      <td>LEFT</td>\n",
       "      <td>MLO</td>\n",
       "      <td>1</td>\n",
       "      <td>mass</td>\n",
       "      <td>IRREGULAR-ARCHITECTURAL_DISTORTION</td>\n",
       "      <td>SPICULATED</td>\n",
       "      <td>4</td>\n",
       "      <td>MALIGNANT</td>\n",
       "      <td>4</td>\n",
       "      <td>Mass-Training_P_00001_LEFT_MLO/1.3.6.1.4.1.9590.100.1.2.319478999311971442426185353560182990988/1.3.6.1.4.1.9590.100.1.2.359308329312397897125630708681441180834/000000.dcm</td>\n",
       "      <td>Mass-Training_P_00001_LEFT_MLO_1/1.3.6.1.4.1.9590.100.1.2.188473874511440575807446266233629582526/1.3.6.1.4.1.9590.100.1.2.227955274711225756835838775062793186053/000000.dcm</td>\n",
       "      <td>Mass-Training_P_00001_LEFT_MLO_1/1.3.6.1.4.1.9590.100.1.2.188473874511440575807446266233629582526/1.3.6.1.4.1.9590.100.1.2.227955274711225756835838775062793186053/000001.dcm\\n</td>\n",
       "    </tr>\n",
       "    <tr>\n",
       "      <th>2</th>\n",
       "      <td>P_00004</td>\n",
       "      <td>3</td>\n",
       "      <td>LEFT</td>\n",
       "      <td>CC</td>\n",
       "      <td>1</td>\n",
       "      <td>mass</td>\n",
       "      <td>ARCHITECTURAL_DISTORTION</td>\n",
       "      <td>ILL_DEFINED</td>\n",
       "      <td>4</td>\n",
       "      <td>BENIGN</td>\n",
       "      <td>3</td>\n",
       "      <td>Mass-Training_P_00004_LEFT_CC/1.3.6.1.4.1.9590.100.1.2.347107867812656628709864319310977895697/1.3.6.1.4.1.9590.100.1.2.89180046211022531834352631483669346540/000000.dcm</td>\n",
       "      <td>Mass-Training_P_00004_LEFT_CC_1/1.3.6.1.4.1.9590.100.1.2.414182170112396175925115449620455230167/1.3.6.1.4.1.9590.100.1.2.429120414011832984817094399141838850375/000000.dcm</td>\n",
       "      <td>Mass-Training_P_00004_LEFT_CC_1/1.3.6.1.4.1.9590.100.1.2.414182170112396175925115449620455230167/1.3.6.1.4.1.9590.100.1.2.429120414011832984817094399141838850375/000001.dcm\\n</td>\n",
       "    </tr>\n",
       "    <tr>\n",
       "      <th>3</th>\n",
       "      <td>P_00004</td>\n",
       "      <td>3</td>\n",
       "      <td>LEFT</td>\n",
       "      <td>MLO</td>\n",
       "      <td>1</td>\n",
       "      <td>mass</td>\n",
       "      <td>ARCHITECTURAL_DISTORTION</td>\n",
       "      <td>ILL_DEFINED</td>\n",
       "      <td>4</td>\n",
       "      <td>BENIGN</td>\n",
       "      <td>3</td>\n",
       "      <td>Mass-Training_P_00004_LEFT_MLO/1.3.6.1.4.1.9590.100.1.2.272600286511817402806912403581910920939/1.3.6.1.4.1.9590.100.1.2.295360926313492745441868049270168300162/000000.dcm</td>\n",
       "      <td>Mass-Training_P_00004_LEFT_MLO_1/1.3.6.1.4.1.9590.100.1.2.342549219112801262604988012930063078769/1.3.6.1.4.1.9590.100.1.2.115134232113001553100559896703407510515/000000.dcm</td>\n",
       "      <td>Mass-Training_P_00004_LEFT_MLO_1/1.3.6.1.4.1.9590.100.1.2.342549219112801262604988012930063078769/1.3.6.1.4.1.9590.100.1.2.115134232113001553100559896703407510515/000001.dcm\\n</td>\n",
       "    </tr>\n",
       "    <tr>\n",
       "      <th>4</th>\n",
       "      <td>P_00004</td>\n",
       "      <td>3</td>\n",
       "      <td>RIGHT</td>\n",
       "      <td>MLO</td>\n",
       "      <td>1</td>\n",
       "      <td>mass</td>\n",
       "      <td>OVAL</td>\n",
       "      <td>CIRCUMSCRIBED</td>\n",
       "      <td>4</td>\n",
       "      <td>BENIGN</td>\n",
       "      <td>5</td>\n",
       "      <td>Mass-Training_P_00004_RIGHT_MLO/1.3.6.1.4.1.9590.100.1.2.174047308712169195014610267031196524486/1.3.6.1.4.1.9590.100.1.2.410524754913057908920631336070876889890/000000.dcm</td>\n",
       "      <td>Mass-Training_P_00004_RIGHT_MLO_1/1.3.6.1.4.1.9590.100.1.2.341142631111685501338932932302380583774/1.3.6.1.4.1.9590.100.1.2.12857366312625701203276284233604184846/000000.dcm</td>\n",
       "      <td>Mass-Training_P_00004_RIGHT_MLO_1/1.3.6.1.4.1.9590.100.1.2.341142631111685501338932932302380583774/1.3.6.1.4.1.9590.100.1.2.12857366312625701203276284233604184846/000001.dcm\\n</td>\n",
       "    </tr>\n",
       "  </tbody>\n",
       "</table>\n",
       "</div>"
      ],
      "text/plain": [
       "  patient_id  breast_density left or right breast image view  abnormality id  \\\n",
       "0    P_00001               3                 LEFT         CC               1   \n",
       "1    P_00001               3                 LEFT        MLO               1   \n",
       "2    P_00004               3                 LEFT         CC               1   \n",
       "3    P_00004               3                 LEFT        MLO               1   \n",
       "4    P_00004               3                RIGHT        MLO               1   \n",
       "\n",
       "  abnormality type                          mass shape   mass margins  \\\n",
       "0             mass  IRREGULAR-ARCHITECTURAL_DISTORTION     SPICULATED   \n",
       "1             mass  IRREGULAR-ARCHITECTURAL_DISTORTION     SPICULATED   \n",
       "2             mass            ARCHITECTURAL_DISTORTION    ILL_DEFINED   \n",
       "3             mass            ARCHITECTURAL_DISTORTION    ILL_DEFINED   \n",
       "4             mass                                OVAL  CIRCUMSCRIBED   \n",
       "\n",
       "   assessment  pathology  subtlety  \\\n",
       "0           4  MALIGNANT         4   \n",
       "1           4  MALIGNANT         4   \n",
       "2           4     BENIGN         3   \n",
       "3           4     BENIGN         3   \n",
       "4           4     BENIGN         5   \n",
       "\n",
       "                                                                                                                                                                image file path  \\\n",
       "0    Mass-Training_P_00001_LEFT_CC/1.3.6.1.4.1.9590.100.1.2.422112722213189649807611434612228974994/1.3.6.1.4.1.9590.100.1.2.342386194811267636608694132590482924515/000000.dcm   \n",
       "1   Mass-Training_P_00001_LEFT_MLO/1.3.6.1.4.1.9590.100.1.2.319478999311971442426185353560182990988/1.3.6.1.4.1.9590.100.1.2.359308329312397897125630708681441180834/000000.dcm   \n",
       "2     Mass-Training_P_00004_LEFT_CC/1.3.6.1.4.1.9590.100.1.2.347107867812656628709864319310977895697/1.3.6.1.4.1.9590.100.1.2.89180046211022531834352631483669346540/000000.dcm   \n",
       "3   Mass-Training_P_00004_LEFT_MLO/1.3.6.1.4.1.9590.100.1.2.272600286511817402806912403581910920939/1.3.6.1.4.1.9590.100.1.2.295360926313492745441868049270168300162/000000.dcm   \n",
       "4  Mass-Training_P_00004_RIGHT_MLO/1.3.6.1.4.1.9590.100.1.2.174047308712169195014610267031196524486/1.3.6.1.4.1.9590.100.1.2.410524754913057908920631336070876889890/000000.dcm   \n",
       "\n",
       "                                                                                                                                                         cropped image file path  \\\n",
       "0   Mass-Training_P_00001_LEFT_CC_1/1.3.6.1.4.1.9590.100.1.2.108268213011361124203859148071588939106/1.3.6.1.4.1.9590.100.1.2.296736403313792599626368780122205399650/000000.dcm   \n",
       "1  Mass-Training_P_00001_LEFT_MLO_1/1.3.6.1.4.1.9590.100.1.2.188473874511440575807446266233629582526/1.3.6.1.4.1.9590.100.1.2.227955274711225756835838775062793186053/000000.dcm   \n",
       "2   Mass-Training_P_00004_LEFT_CC_1/1.3.6.1.4.1.9590.100.1.2.414182170112396175925115449620455230167/1.3.6.1.4.1.9590.100.1.2.429120414011832984817094399141838850375/000000.dcm   \n",
       "3  Mass-Training_P_00004_LEFT_MLO_1/1.3.6.1.4.1.9590.100.1.2.342549219112801262604988012930063078769/1.3.6.1.4.1.9590.100.1.2.115134232113001553100559896703407510515/000000.dcm   \n",
       "4  Mass-Training_P_00004_RIGHT_MLO_1/1.3.6.1.4.1.9590.100.1.2.341142631111685501338932932302380583774/1.3.6.1.4.1.9590.100.1.2.12857366312625701203276284233604184846/000000.dcm   \n",
       "\n",
       "                                                                                                                                                                ROI mask file path  \n",
       "0   Mass-Training_P_00001_LEFT_CC_1/1.3.6.1.4.1.9590.100.1.2.108268213011361124203859148071588939106/1.3.6.1.4.1.9590.100.1.2.296736403313792599626368780122205399650/000001.dcm\\n  \n",
       "1  Mass-Training_P_00001_LEFT_MLO_1/1.3.6.1.4.1.9590.100.1.2.188473874511440575807446266233629582526/1.3.6.1.4.1.9590.100.1.2.227955274711225756835838775062793186053/000001.dcm\\n  \n",
       "2   Mass-Training_P_00004_LEFT_CC_1/1.3.6.1.4.1.9590.100.1.2.414182170112396175925115449620455230167/1.3.6.1.4.1.9590.100.1.2.429120414011832984817094399141838850375/000001.dcm\\n  \n",
       "3  Mass-Training_P_00004_LEFT_MLO_1/1.3.6.1.4.1.9590.100.1.2.342549219112801262604988012930063078769/1.3.6.1.4.1.9590.100.1.2.115134232113001553100559896703407510515/000001.dcm\\n  \n",
       "4  Mass-Training_P_00004_RIGHT_MLO_1/1.3.6.1.4.1.9590.100.1.2.341142631111685501338932932302380583774/1.3.6.1.4.1.9590.100.1.2.12857366312625701203276284233604184846/000001.dcm\\n  "
      ]
     },
     "execution_count": 19,
     "metadata": {},
     "output_type": "execute_result"
    }
   ],
   "source": [
    "subject = pd.read_csv('mass_case_description_train_set.csv') \n",
    "print(\"{} columns and {} rows\".format(subject.shape[1], subject.shape[0]))\n",
    "pd.options.display.max_colwidth = 200\n",
    "subject.head()"
   ]
  },
  {
   "cell_type": "markdown",
   "metadata": {},
   "source": [
    "###### From the above table, we see there are some features that are self explainatory and others which need some \"domain\" knowledge. We will review each attribute on this table and their counts to understand how the data is segmented. We will then pick a few attributes which we can use for further analysis. "
   ]
  },
  {
   "cell_type": "code",
   "execution_count": 6,
   "metadata": {},
   "outputs": [
    {
     "data": {
      "text/html": [
       "<div>\n",
       "<style scoped>\n",
       "    .dataframe tbody tr th:only-of-type {\n",
       "        vertical-align: middle;\n",
       "    }\n",
       "\n",
       "    .dataframe tbody tr th {\n",
       "        vertical-align: top;\n",
       "    }\n",
       "\n",
       "    .dataframe thead th {\n",
       "        text-align: right;\n",
       "    }\n",
       "</style>\n",
       "<table border=\"1\" class=\"dataframe\">\n",
       "  <thead>\n",
       "    <tr style=\"text-align: right;\">\n",
       "      <th></th>\n",
       "      <th>patient_id</th>\n",
       "    </tr>\n",
       "    <tr>\n",
       "      <th>image view</th>\n",
       "      <th></th>\n",
       "    </tr>\n",
       "  </thead>\n",
       "  <tbody>\n",
       "    <tr>\n",
       "      <th>CC</th>\n",
       "      <td>607</td>\n",
       "    </tr>\n",
       "    <tr>\n",
       "      <th>MLO</th>\n",
       "      <td>711</td>\n",
       "    </tr>\n",
       "  </tbody>\n",
       "</table>\n",
       "</div>"
      ],
      "text/plain": [
       "            patient_id\n",
       "image view            \n",
       "CC                 607\n",
       "MLO                711"
      ]
     },
     "execution_count": 6,
     "metadata": {},
     "output_type": "execute_result"
    }
   ],
   "source": [
    "subject.groupby(by=['image view'])[['patient_id']].count()"
   ]
  },
  {
   "cell_type": "code",
   "execution_count": 7,
   "metadata": {},
   "outputs": [
    {
     "data": {
      "text/html": [
       "<div>\n",
       "<style scoped>\n",
       "    .dataframe tbody tr th:only-of-type {\n",
       "        vertical-align: middle;\n",
       "    }\n",
       "\n",
       "    .dataframe tbody tr th {\n",
       "        vertical-align: top;\n",
       "    }\n",
       "\n",
       "    .dataframe thead th {\n",
       "        text-align: right;\n",
       "    }\n",
       "</style>\n",
       "<table border=\"1\" class=\"dataframe\">\n",
       "  <thead>\n",
       "    <tr style=\"text-align: right;\">\n",
       "      <th></th>\n",
       "      <th>patient_id</th>\n",
       "    </tr>\n",
       "    <tr>\n",
       "      <th>mass margins</th>\n",
       "      <th></th>\n",
       "    </tr>\n",
       "  </thead>\n",
       "  <tbody>\n",
       "    <tr>\n",
       "      <th>CIRCUMSCRIBED</th>\n",
       "      <td>305</td>\n",
       "    </tr>\n",
       "    <tr>\n",
       "      <th>CIRCUMSCRIBED-ILL_DEFINED</th>\n",
       "      <td>27</td>\n",
       "    </tr>\n",
       "    <tr>\n",
       "      <th>CIRCUMSCRIBED-MICROLOBULATED</th>\n",
       "      <td>1</td>\n",
       "    </tr>\n",
       "    <tr>\n",
       "      <th>CIRCUMSCRIBED-OBSCURED</th>\n",
       "      <td>19</td>\n",
       "    </tr>\n",
       "    <tr>\n",
       "      <th>ILL_DEFINED</th>\n",
       "      <td>278</td>\n",
       "    </tr>\n",
       "    <tr>\n",
       "      <th>ILL_DEFINED-SPICULATED</th>\n",
       "      <td>25</td>\n",
       "    </tr>\n",
       "    <tr>\n",
       "      <th>MICROLOBULATED</th>\n",
       "      <td>108</td>\n",
       "    </tr>\n",
       "    <tr>\n",
       "      <th>MICROLOBULATED-ILL_DEFINED</th>\n",
       "      <td>3</td>\n",
       "    </tr>\n",
       "    <tr>\n",
       "      <th>MICROLOBULATED-ILL_DEFINED-SPICULATED</th>\n",
       "      <td>2</td>\n",
       "    </tr>\n",
       "    <tr>\n",
       "      <th>MICROLOBULATED-SPICULATED</th>\n",
       "      <td>2</td>\n",
       "    </tr>\n",
       "    <tr>\n",
       "      <th>OBSCURED</th>\n",
       "      <td>197</td>\n",
       "    </tr>\n",
       "    <tr>\n",
       "      <th>OBSCURED-ILL_DEFINED</th>\n",
       "      <td>19</td>\n",
       "    </tr>\n",
       "    <tr>\n",
       "      <th>OBSCURED-ILL_DEFINED-SPICULATED</th>\n",
       "      <td>4</td>\n",
       "    </tr>\n",
       "    <tr>\n",
       "      <th>OBSCURED-SPICULATED</th>\n",
       "      <td>4</td>\n",
       "    </tr>\n",
       "    <tr>\n",
       "      <th>SPICULATED</th>\n",
       "      <td>281</td>\n",
       "    </tr>\n",
       "  </tbody>\n",
       "</table>\n",
       "</div>"
      ],
      "text/plain": [
       "                                       patient_id\n",
       "mass margins                                     \n",
       "CIRCUMSCRIBED                                 305\n",
       "CIRCUMSCRIBED-ILL_DEFINED                      27\n",
       "CIRCUMSCRIBED-MICROLOBULATED                    1\n",
       "CIRCUMSCRIBED-OBSCURED                         19\n",
       "ILL_DEFINED                                   278\n",
       "ILL_DEFINED-SPICULATED                         25\n",
       "MICROLOBULATED                                108\n",
       "MICROLOBULATED-ILL_DEFINED                      3\n",
       "MICROLOBULATED-ILL_DEFINED-SPICULATED           2\n",
       "MICROLOBULATED-SPICULATED                       2\n",
       "OBSCURED                                      197\n",
       "OBSCURED-ILL_DEFINED                           19\n",
       "OBSCURED-ILL_DEFINED-SPICULATED                 4\n",
       "OBSCURED-SPICULATED                             4\n",
       "SPICULATED                                    281"
      ]
     },
     "execution_count": 7,
     "metadata": {},
     "output_type": "execute_result"
    }
   ],
   "source": [
    "subject.groupby(by=['mass margins'])[['patient_id']].count()"
   ]
  },
  {
   "cell_type": "code",
   "execution_count": 8,
   "metadata": {},
   "outputs": [
    {
     "data": {
      "text/html": [
       "<div>\n",
       "<style scoped>\n",
       "    .dataframe tbody tr th:only-of-type {\n",
       "        vertical-align: middle;\n",
       "    }\n",
       "\n",
       "    .dataframe tbody tr th {\n",
       "        vertical-align: top;\n",
       "    }\n",
       "\n",
       "    .dataframe thead th {\n",
       "        text-align: right;\n",
       "    }\n",
       "</style>\n",
       "<table border=\"1\" class=\"dataframe\">\n",
       "  <thead>\n",
       "    <tr style=\"text-align: right;\">\n",
       "      <th></th>\n",
       "      <th>patient_id</th>\n",
       "    </tr>\n",
       "    <tr>\n",
       "      <th>pathology</th>\n",
       "      <th></th>\n",
       "    </tr>\n",
       "  </thead>\n",
       "  <tbody>\n",
       "    <tr>\n",
       "      <th>BENIGN</th>\n",
       "      <td>577</td>\n",
       "    </tr>\n",
       "    <tr>\n",
       "      <th>BENIGN_WITHOUT_CALLBACK</th>\n",
       "      <td>104</td>\n",
       "    </tr>\n",
       "    <tr>\n",
       "      <th>MALIGNANT</th>\n",
       "      <td>637</td>\n",
       "    </tr>\n",
       "  </tbody>\n",
       "</table>\n",
       "</div>"
      ],
      "text/plain": [
       "                         patient_id\n",
       "pathology                          \n",
       "BENIGN                          577\n",
       "BENIGN_WITHOUT_CALLBACK         104\n",
       "MALIGNANT                       637"
      ]
     },
     "execution_count": 8,
     "metadata": {},
     "output_type": "execute_result"
    }
   ],
   "source": [
    "subject.groupby(by=['pathology'])[['patient_id']].count()"
   ]
  },
  {
   "cell_type": "code",
   "execution_count": 9,
   "metadata": {},
   "outputs": [
    {
     "data": {
      "text/html": [
       "<div>\n",
       "<style scoped>\n",
       "    .dataframe tbody tr th:only-of-type {\n",
       "        vertical-align: middle;\n",
       "    }\n",
       "\n",
       "    .dataframe tbody tr th {\n",
       "        vertical-align: top;\n",
       "    }\n",
       "\n",
       "    .dataframe thead th {\n",
       "        text-align: right;\n",
       "    }\n",
       "</style>\n",
       "<table border=\"1\" class=\"dataframe\">\n",
       "  <thead>\n",
       "    <tr style=\"text-align: right;\">\n",
       "      <th></th>\n",
       "      <th>patient_id</th>\n",
       "    </tr>\n",
       "    <tr>\n",
       "      <th>breast_density</th>\n",
       "      <th></th>\n",
       "    </tr>\n",
       "  </thead>\n",
       "  <tbody>\n",
       "    <tr>\n",
       "      <th>1</th>\n",
       "      <td>287</td>\n",
       "    </tr>\n",
       "    <tr>\n",
       "      <th>2</th>\n",
       "      <td>585</td>\n",
       "    </tr>\n",
       "    <tr>\n",
       "      <th>3</th>\n",
       "      <td>337</td>\n",
       "    </tr>\n",
       "    <tr>\n",
       "      <th>4</th>\n",
       "      <td>109</td>\n",
       "    </tr>\n",
       "  </tbody>\n",
       "</table>\n",
       "</div>"
      ],
      "text/plain": [
       "                patient_id\n",
       "breast_density            \n",
       "1                      287\n",
       "2                      585\n",
       "3                      337\n",
       "4                      109"
      ]
     },
     "execution_count": 9,
     "metadata": {},
     "output_type": "execute_result"
    }
   ],
   "source": [
    "subject.groupby(by=['breast_density'])[['patient_id']].count()"
   ]
  },
  {
   "cell_type": "code",
   "execution_count": 10,
   "metadata": {},
   "outputs": [
    {
     "data": {
      "text/html": [
       "<div>\n",
       "<style scoped>\n",
       "    .dataframe tbody tr th:only-of-type {\n",
       "        vertical-align: middle;\n",
       "    }\n",
       "\n",
       "    .dataframe tbody tr th {\n",
       "        vertical-align: top;\n",
       "    }\n",
       "\n",
       "    .dataframe thead th {\n",
       "        text-align: right;\n",
       "    }\n",
       "</style>\n",
       "<table border=\"1\" class=\"dataframe\">\n",
       "  <thead>\n",
       "    <tr style=\"text-align: right;\">\n",
       "      <th></th>\n",
       "      <th>patient_id</th>\n",
       "    </tr>\n",
       "    <tr>\n",
       "      <th>abnormality id</th>\n",
       "      <th></th>\n",
       "    </tr>\n",
       "  </thead>\n",
       "  <tbody>\n",
       "    <tr>\n",
       "      <th>1</th>\n",
       "      <td>1216</td>\n",
       "    </tr>\n",
       "    <tr>\n",
       "      <th>2</th>\n",
       "      <td>68</td>\n",
       "    </tr>\n",
       "    <tr>\n",
       "      <th>3</th>\n",
       "      <td>23</td>\n",
       "    </tr>\n",
       "    <tr>\n",
       "      <th>4</th>\n",
       "      <td>7</td>\n",
       "    </tr>\n",
       "    <tr>\n",
       "      <th>5</th>\n",
       "      <td>2</td>\n",
       "    </tr>\n",
       "    <tr>\n",
       "      <th>6</th>\n",
       "      <td>2</td>\n",
       "    </tr>\n",
       "  </tbody>\n",
       "</table>\n",
       "</div>"
      ],
      "text/plain": [
       "                patient_id\n",
       "abnormality id            \n",
       "1                     1216\n",
       "2                       68\n",
       "3                       23\n",
       "4                        7\n",
       "5                        2\n",
       "6                        2"
      ]
     },
     "execution_count": 10,
     "metadata": {},
     "output_type": "execute_result"
    }
   ],
   "source": [
    "subject.groupby(by=['abnormality id'])[['patient_id']].count()"
   ]
  },
  {
   "cell_type": "code",
   "execution_count": 12,
   "metadata": {},
   "outputs": [
    {
     "data": {
      "text/plain": [
       "patient_id                  0\n",
       "breast_density              0\n",
       "left or right breast        0\n",
       "image view                  0\n",
       "abnormality id              0\n",
       "abnormality type            0\n",
       "mass shape                  4\n",
       "mass margins               43\n",
       "assessment                  0\n",
       "pathology                   0\n",
       "subtlety                    0\n",
       "image file path             0\n",
       "cropped image file path     0\n",
       "ROI mask file path          0\n",
       "dtype: int64"
      ]
     },
     "execution_count": 12,
     "metadata": {},
     "output_type": "execute_result"
    }
   ],
   "source": [
    "subject.isnull().sum()"
   ]
  },
  {
   "cell_type": "code",
   "execution_count": 54,
   "metadata": {},
   "outputs": [],
   "source": [
    "####Creating labels for images: \n",
    "#https://github.com/escuccim/mias-mammography/blob/master/scratch/create_cbis_ddsm_labels.ipynb\n",
    "\n",
    "mass_test_data = pd.read_csv(\"mass_case_description_test_set.csv\")\n",
    "mass_test_data['image_name'] = mass_test_data.patient_id + '_' + mass_test_data['left or right breast'] + '_' + mass_test_data['image view'] + '.jpg'\n",
    "mass_test_data.drop([\"image file path\",\"cropped image file path\",\"ROI mask file path\"], axis=1, inplace=True)\n",
    "mass_test_data.columns = [\"PATIENT_ID\",\"BREAST_DENSITY\",\"SIDE\",\"VIEW\",\"ABNORMALITY_ID\",\"ABNORMALITY_TYPE\",\"MASS_SHAPE\",\"MASS_MARGINS\",\"ASSESSMENT\",\"PATHOLOGY\", \"SUBLETY\",\"IMAGE_NAME\"]\n",
    "\n",
    "mass_train_data = pd.read_csv(\"mass_case_description_train_set.csv\")\n",
    "mass_train_data['image_name'] = mass_train_data.patient_id + '_' + mass_train_data['left or right breast'] + '_' + mass_train_data['image view'] + '.jpg'\n",
    "mass_train_data.drop([\"image file path\",\"cropped image file path\",\"ROI mask file path\"], axis=1, inplace=True)\n",
    "mass_train_data.columns = [\"PATIENT_ID\",\"BREAST_DENSITY\",\"SIDE\",\"VIEW\",\"ABNORMALITY_ID\",\"ABNORMALITY_TYPE\",\"MASS_SHAPE\",\"MASS_MARGINS\",\"ASSESSMENT\",\"PATHOLOGY\", \"SUBLETY\",\"IMAGE_NAME\"]\n",
    "\n",
    "calc_test_data = pd.read_csv(\"calc_case_description_test_set.csv\")\n",
    "calc_test_data['image_name'] = calc_test_data.patient_id +  '_' + calc_test_data['left or right breast'] + '_' + calc_test_data['image view'] +'.jpg'\n",
    "calc_test_data.drop([\"image file path\",\"cropped image file path\",\"ROI mask file path\"], axis=1, inplace=True)\n",
    "calc_test_data.columns = [\"PATIENT_ID\",\"BREAST_DENSITY\",\"SIDE\",\"VIEW\",\"ABNORMALITY_ID\",\"ABNORMALITY_TYPE\",\"MASS_SHAPE\",\"MASS_MARGINS\",\"ASSESSMENT\",\"PATHOLOGY\", \"SUBLETY\",\"IMAGE_NAME\"]\n",
    "\n",
    "calc_train_data = pd.read_csv(\"calc_case_description_train_set.csv\")\n",
    "calc_train_data['image_name'] = calc_train_data.patient_id+ '_' + calc_train_data['left or right breast'] + '_' + calc_train_data['image view']  + '.jpg'\n",
    "calc_train_data.drop([\"image file path\",\"cropped image file path\",\"ROI mask file path\"], axis=1, inplace=True)\n",
    "calc_train_data.columns = [\"PATIENT_ID\",\"BREAST_DENSITY\",\"SIDE\",\"VIEW\",\"ABNORMALITY_ID\",\"ABNORMALITY_TYPE\",\"MASS_SHAPE\",\"MASS_MARGINS\",\"ASSESSMENT\",\"PATHOLOGY\", \"SUBLETY\",\"IMAGE_NAME\"]\n",
    "\n",
    "train_labels = pd.concat([mass_train_data, calc_train_data], axis=0)\n",
    "# replace BENIGN_WITHOUT_CALLBACK with BENIGN for easier classification\n",
    "train_labels['PATHOLOGY'][train_labels['PATHOLOGY'] == 'BENIGN_WITHOUT_CALLBACK'] = 'BENIGN'\n",
    "\n",
    "train_labels['CLASS'] = train_labels['PATHOLOGY'] + '_' + train_labels['ABNORMALITY_TYPE']\n",
    "\n",
    "test_labels = pd.concat([mass_test_data, calc_test_data], axis=0)\n",
    "# replace BENIGN_WITHOUT_CALLBACK with BENIGN for easier classification\n",
    "test_labels['PATHOLOGY'][test_labels['PATHOLOGY'] == 'BENIGN_WITHOUT_CALLBACK'] = 'BENIGN'\n",
    "test_labels['CLASS'] = test_labels['PATHOLOGY'] + '_' + test_labels['ABNORMALITY_TYPE']\n",
    "\n",
    "# set the image name to be the index\n",
    "train_labels.set_index(\"IMAGE_NAME\", inplace=True)\n",
    "test_labels.set_index(\"IMAGE_NAME\", inplace=True)\n",
    "\n",
    "\n",
    "# save the data\n",
    "train_labels.to_pickle(os.path.join(\"data\",\"train_labels.pkl\"))\n",
    "test_labels.to_pickle(os.path.join(\"data\",\"test_labels.pkl\"))"
   ]
  },
  {
   "cell_type": "code",
   "execution_count": 48,
   "metadata": {},
   "outputs": [
    {
     "data": {
      "text/html": [
       "<div>\n",
       "<style scoped>\n",
       "    .dataframe tbody tr th:only-of-type {\n",
       "        vertical-align: middle;\n",
       "    }\n",
       "\n",
       "    .dataframe tbody tr th {\n",
       "        vertical-align: top;\n",
       "    }\n",
       "\n",
       "    .dataframe thead th {\n",
       "        text-align: right;\n",
       "    }\n",
       "</style>\n",
       "<table border=\"1\" class=\"dataframe\">\n",
       "  <thead>\n",
       "    <tr style=\"text-align: right;\">\n",
       "      <th></th>\n",
       "      <th>PATIENT_ID</th>\n",
       "      <th>BREAST_DENSITY</th>\n",
       "      <th>SIDE</th>\n",
       "      <th>VIEW</th>\n",
       "      <th>ABNORMALITY_ID</th>\n",
       "      <th>ABNORMALITY_TYPE</th>\n",
       "      <th>MASS_SHAPE</th>\n",
       "      <th>MASS_MARGINS</th>\n",
       "      <th>ASSESSMENT</th>\n",
       "      <th>PATHOLOGY</th>\n",
       "      <th>SUBLETY</th>\n",
       "      <th>CLASS</th>\n",
       "      <th>TYPE</th>\n",
       "    </tr>\n",
       "    <tr>\n",
       "      <th>IMAGE_NAME</th>\n",
       "      <th></th>\n",
       "      <th></th>\n",
       "      <th></th>\n",
       "      <th></th>\n",
       "      <th></th>\n",
       "      <th></th>\n",
       "      <th></th>\n",
       "      <th></th>\n",
       "      <th></th>\n",
       "      <th></th>\n",
       "      <th></th>\n",
       "      <th></th>\n",
       "      <th></th>\n",
       "    </tr>\n",
       "  </thead>\n",
       "  <tbody>\n",
       "    <tr>\n",
       "      <th>P_00016_LEFT_CC.jpg</th>\n",
       "      <td>P_00016</td>\n",
       "      <td>4</td>\n",
       "      <td>LEFT</td>\n",
       "      <td>CC</td>\n",
       "      <td>1</td>\n",
       "      <td>mass</td>\n",
       "      <td>IRREGULAR</td>\n",
       "      <td>SPICULATED</td>\n",
       "      <td>5</td>\n",
       "      <td>MALIGNANT</td>\n",
       "      <td>5</td>\n",
       "      <td>MALIGNANT_mass</td>\n",
       "      <td>1</td>\n",
       "    </tr>\n",
       "    <tr>\n",
       "      <th>P_00016_LEFT_MLO.jpg</th>\n",
       "      <td>P_00016</td>\n",
       "      <td>4</td>\n",
       "      <td>LEFT</td>\n",
       "      <td>MLO</td>\n",
       "      <td>1</td>\n",
       "      <td>mass</td>\n",
       "      <td>IRREGULAR</td>\n",
       "      <td>SPICULATED</td>\n",
       "      <td>5</td>\n",
       "      <td>MALIGNANT</td>\n",
       "      <td>5</td>\n",
       "      <td>MALIGNANT_mass</td>\n",
       "      <td>1</td>\n",
       "    </tr>\n",
       "    <tr>\n",
       "      <th>P_00017_LEFT_CC.jpg</th>\n",
       "      <td>P_00017</td>\n",
       "      <td>2</td>\n",
       "      <td>LEFT</td>\n",
       "      <td>CC</td>\n",
       "      <td>1</td>\n",
       "      <td>mass</td>\n",
       "      <td>ROUND</td>\n",
       "      <td>CIRCUMSCRIBED</td>\n",
       "      <td>4</td>\n",
       "      <td>MALIGNANT</td>\n",
       "      <td>4</td>\n",
       "      <td>MALIGNANT_mass</td>\n",
       "      <td>1</td>\n",
       "    </tr>\n",
       "    <tr>\n",
       "      <th>P_00017_LEFT_MLO.jpg</th>\n",
       "      <td>P_00017</td>\n",
       "      <td>2</td>\n",
       "      <td>LEFT</td>\n",
       "      <td>MLO</td>\n",
       "      <td>1</td>\n",
       "      <td>mass</td>\n",
       "      <td>ROUND</td>\n",
       "      <td>ILL_DEFINED</td>\n",
       "      <td>4</td>\n",
       "      <td>MALIGNANT</td>\n",
       "      <td>4</td>\n",
       "      <td>MALIGNANT_mass</td>\n",
       "      <td>1</td>\n",
       "    </tr>\n",
       "    <tr>\n",
       "      <th>P_00032_RIGHT_CC.jpg</th>\n",
       "      <td>P_00032</td>\n",
       "      <td>3</td>\n",
       "      <td>RIGHT</td>\n",
       "      <td>CC</td>\n",
       "      <td>1</td>\n",
       "      <td>mass</td>\n",
       "      <td>ROUND</td>\n",
       "      <td>OBSCURED</td>\n",
       "      <td>0</td>\n",
       "      <td>BENIGN</td>\n",
       "      <td>2</td>\n",
       "      <td>BENIGN_mass</td>\n",
       "      <td>0</td>\n",
       "    </tr>\n",
       "  </tbody>\n",
       "</table>\n",
       "</div>"
      ],
      "text/plain": [
       "                     PATIENT_ID  BREAST_DENSITY   SIDE VIEW  ABNORMALITY_ID  \\\n",
       "IMAGE_NAME                                                                    \n",
       "P_00016_LEFT_CC.jpg     P_00016               4   LEFT   CC               1   \n",
       "P_00016_LEFT_MLO.jpg    P_00016               4   LEFT  MLO               1   \n",
       "P_00017_LEFT_CC.jpg     P_00017               2   LEFT   CC               1   \n",
       "P_00017_LEFT_MLO.jpg    P_00017               2   LEFT  MLO               1   \n",
       "P_00032_RIGHT_CC.jpg    P_00032               3  RIGHT   CC               1   \n",
       "\n",
       "                     ABNORMALITY_TYPE MASS_SHAPE   MASS_MARGINS  ASSESSMENT  \\\n",
       "IMAGE_NAME                                                                    \n",
       "P_00016_LEFT_CC.jpg              mass  IRREGULAR     SPICULATED           5   \n",
       "P_00016_LEFT_MLO.jpg             mass  IRREGULAR     SPICULATED           5   \n",
       "P_00017_LEFT_CC.jpg              mass      ROUND  CIRCUMSCRIBED           4   \n",
       "P_00017_LEFT_MLO.jpg             mass      ROUND    ILL_DEFINED           4   \n",
       "P_00032_RIGHT_CC.jpg             mass      ROUND       OBSCURED           0   \n",
       "\n",
       "                      PATHOLOGY  SUBLETY           CLASS  TYPE  \n",
       "IMAGE_NAME                                                      \n",
       "P_00016_LEFT_CC.jpg   MALIGNANT        5  MALIGNANT_mass     1  \n",
       "P_00016_LEFT_MLO.jpg  MALIGNANT        5  MALIGNANT_mass     1  \n",
       "P_00017_LEFT_CC.jpg   MALIGNANT        4  MALIGNANT_mass     1  \n",
       "P_00017_LEFT_MLO.jpg  MALIGNANT        4  MALIGNANT_mass     1  \n",
       "P_00032_RIGHT_CC.jpg     BENIGN        2     BENIGN_mass     0  "
      ]
     },
     "execution_count": 48,
     "metadata": {},
     "output_type": "execute_result"
    }
   ],
   "source": [
    "#INCLUDING A TYPE COLUMN TO SAVE NUMBERIC VALUES FOR PATHOLOGY\n",
    "\n",
    "test_labels['TYPE'] = -1\n",
    "mal_idx = test_labels['PATHOLOGY'] == 'MALIGNANT'\n",
    "test_labels.loc[mal_idx,'TYPE'] = 1\n",
    "ben_idx = test_labels['PATHOLOGY'] == 'BENIGN'\n",
    "test_labels.loc[ben_idx,'TYPE'] = 0\n",
    "\n",
    "test_labels.head()\n"
   ]
  },
  {
   "cell_type": "code",
   "execution_count": 49,
   "metadata": {
    "scrolled": true
   },
   "outputs": [
    {
     "data": {
      "text/html": [
       "<div>\n",
       "<style scoped>\n",
       "    .dataframe tbody tr th:only-of-type {\n",
       "        vertical-align: middle;\n",
       "    }\n",
       "\n",
       "    .dataframe tbody tr th {\n",
       "        vertical-align: top;\n",
       "    }\n",
       "\n",
       "    .dataframe thead th {\n",
       "        text-align: right;\n",
       "    }\n",
       "</style>\n",
       "<table border=\"1\" class=\"dataframe\">\n",
       "  <thead>\n",
       "    <tr style=\"text-align: right;\">\n",
       "      <th></th>\n",
       "      <th>PATIENT_ID</th>\n",
       "      <th>BREAST_DENSITY</th>\n",
       "      <th>SIDE</th>\n",
       "      <th>VIEW</th>\n",
       "      <th>ABNORMALITY_ID</th>\n",
       "      <th>ABNORMALITY_TYPE</th>\n",
       "      <th>MASS_SHAPE</th>\n",
       "      <th>MASS_MARGINS</th>\n",
       "      <th>ASSESSMENT</th>\n",
       "      <th>PATHOLOGY</th>\n",
       "      <th>SUBLETY</th>\n",
       "      <th>CLASS</th>\n",
       "      <th>TYPE</th>\n",
       "    </tr>\n",
       "    <tr>\n",
       "      <th>IMAGE_NAME</th>\n",
       "      <th></th>\n",
       "      <th></th>\n",
       "      <th></th>\n",
       "      <th></th>\n",
       "      <th></th>\n",
       "      <th></th>\n",
       "      <th></th>\n",
       "      <th></th>\n",
       "      <th></th>\n",
       "      <th></th>\n",
       "      <th></th>\n",
       "      <th></th>\n",
       "      <th></th>\n",
       "    </tr>\n",
       "  </thead>\n",
       "  <tbody>\n",
       "    <tr>\n",
       "      <th>P_00001_LEFT_CC.jpg</th>\n",
       "      <td>P_00001</td>\n",
       "      <td>3</td>\n",
       "      <td>LEFT</td>\n",
       "      <td>CC</td>\n",
       "      <td>1</td>\n",
       "      <td>mass</td>\n",
       "      <td>IRREGULAR-ARCHITECTURAL_DISTORTION</td>\n",
       "      <td>SPICULATED</td>\n",
       "      <td>4</td>\n",
       "      <td>MALIGNANT</td>\n",
       "      <td>4</td>\n",
       "      <td>MALIGNANT_mass</td>\n",
       "      <td>1</td>\n",
       "    </tr>\n",
       "    <tr>\n",
       "      <th>P_00001_LEFT_MLO.jpg</th>\n",
       "      <td>P_00001</td>\n",
       "      <td>3</td>\n",
       "      <td>LEFT</td>\n",
       "      <td>MLO</td>\n",
       "      <td>1</td>\n",
       "      <td>mass</td>\n",
       "      <td>IRREGULAR-ARCHITECTURAL_DISTORTION</td>\n",
       "      <td>SPICULATED</td>\n",
       "      <td>4</td>\n",
       "      <td>MALIGNANT</td>\n",
       "      <td>4</td>\n",
       "      <td>MALIGNANT_mass</td>\n",
       "      <td>1</td>\n",
       "    </tr>\n",
       "    <tr>\n",
       "      <th>P_00004_LEFT_CC.jpg</th>\n",
       "      <td>P_00004</td>\n",
       "      <td>3</td>\n",
       "      <td>LEFT</td>\n",
       "      <td>CC</td>\n",
       "      <td>1</td>\n",
       "      <td>mass</td>\n",
       "      <td>ARCHITECTURAL_DISTORTION</td>\n",
       "      <td>ILL_DEFINED</td>\n",
       "      <td>4</td>\n",
       "      <td>BENIGN</td>\n",
       "      <td>3</td>\n",
       "      <td>BENIGN_mass</td>\n",
       "      <td>0</td>\n",
       "    </tr>\n",
       "    <tr>\n",
       "      <th>P_00004_LEFT_MLO.jpg</th>\n",
       "      <td>P_00004</td>\n",
       "      <td>3</td>\n",
       "      <td>LEFT</td>\n",
       "      <td>MLO</td>\n",
       "      <td>1</td>\n",
       "      <td>mass</td>\n",
       "      <td>ARCHITECTURAL_DISTORTION</td>\n",
       "      <td>ILL_DEFINED</td>\n",
       "      <td>4</td>\n",
       "      <td>BENIGN</td>\n",
       "      <td>3</td>\n",
       "      <td>BENIGN_mass</td>\n",
       "      <td>0</td>\n",
       "    </tr>\n",
       "    <tr>\n",
       "      <th>P_00004_RIGHT_MLO.jpg</th>\n",
       "      <td>P_00004</td>\n",
       "      <td>3</td>\n",
       "      <td>RIGHT</td>\n",
       "      <td>MLO</td>\n",
       "      <td>1</td>\n",
       "      <td>mass</td>\n",
       "      <td>OVAL</td>\n",
       "      <td>CIRCUMSCRIBED</td>\n",
       "      <td>4</td>\n",
       "      <td>BENIGN</td>\n",
       "      <td>5</td>\n",
       "      <td>BENIGN_mass</td>\n",
       "      <td>0</td>\n",
       "    </tr>\n",
       "  </tbody>\n",
       "</table>\n",
       "</div>"
      ],
      "text/plain": [
       "                      PATIENT_ID  BREAST_DENSITY   SIDE VIEW  ABNORMALITY_ID  \\\n",
       "IMAGE_NAME                                                                     \n",
       "P_00001_LEFT_CC.jpg      P_00001               3   LEFT   CC               1   \n",
       "P_00001_LEFT_MLO.jpg     P_00001               3   LEFT  MLO               1   \n",
       "P_00004_LEFT_CC.jpg      P_00004               3   LEFT   CC               1   \n",
       "P_00004_LEFT_MLO.jpg     P_00004               3   LEFT  MLO               1   \n",
       "P_00004_RIGHT_MLO.jpg    P_00004               3  RIGHT  MLO               1   \n",
       "\n",
       "                      ABNORMALITY_TYPE                          MASS_SHAPE  \\\n",
       "IMAGE_NAME                                                                   \n",
       "P_00001_LEFT_CC.jpg               mass  IRREGULAR-ARCHITECTURAL_DISTORTION   \n",
       "P_00001_LEFT_MLO.jpg              mass  IRREGULAR-ARCHITECTURAL_DISTORTION   \n",
       "P_00004_LEFT_CC.jpg               mass            ARCHITECTURAL_DISTORTION   \n",
       "P_00004_LEFT_MLO.jpg              mass            ARCHITECTURAL_DISTORTION   \n",
       "P_00004_RIGHT_MLO.jpg             mass                                OVAL   \n",
       "\n",
       "                        MASS_MARGINS  ASSESSMENT  PATHOLOGY  SUBLETY  \\\n",
       "IMAGE_NAME                                                             \n",
       "P_00001_LEFT_CC.jpg       SPICULATED           4  MALIGNANT        4   \n",
       "P_00001_LEFT_MLO.jpg      SPICULATED           4  MALIGNANT        4   \n",
       "P_00004_LEFT_CC.jpg      ILL_DEFINED           4     BENIGN        3   \n",
       "P_00004_LEFT_MLO.jpg     ILL_DEFINED           4     BENIGN        3   \n",
       "P_00004_RIGHT_MLO.jpg  CIRCUMSCRIBED           4     BENIGN        5   \n",
       "\n",
       "                                CLASS  TYPE  \n",
       "IMAGE_NAME                                   \n",
       "P_00001_LEFT_CC.jpg    MALIGNANT_mass     1  \n",
       "P_00001_LEFT_MLO.jpg   MALIGNANT_mass     1  \n",
       "P_00004_LEFT_CC.jpg       BENIGN_mass     0  \n",
       "P_00004_LEFT_MLO.jpg      BENIGN_mass     0  \n",
       "P_00004_RIGHT_MLO.jpg     BENIGN_mass     0  "
      ]
     },
     "execution_count": 49,
     "metadata": {},
     "output_type": "execute_result"
    }
   ],
   "source": [
    "#INCLUDING A TYPE COLUMN TO SAVE NUMBERIC VALUES FOR PATHOLOGY\n",
    "\n",
    "train_labels['TYPE'] = -1\n",
    "mal_idx = train_labels['PATHOLOGY'] == 'MALIGNANT'\n",
    "train_labels.loc[mal_idx,'TYPE'] = 1\n",
    "ben_idx = train_labels['PATHOLOGY'] == 'BENIGN'\n",
    "train_labels.loc[ben_idx,'TYPE'] = 0\n",
    "\n",
    "train_labels.head()\n"
   ]
  },
  {
   "cell_type": "markdown",
   "metadata": {},
   "source": [
    "*********\n",
    "USING THE DATA FOR AUTOMATIC IMAGE SEGMENTATION AND CLASSIFICATION\n",
    "Steps:\n",
    "    binarize image\n",
    "    crop image\n",
    "    find ROI\n",
    "    perform segmentation\n",
    "    find harlick features on roi and use that for classification of malignant and benign\n",
    "    peform feature selection\n",
    "    peform model selection\n",
    "    perform model evaluation\n",
    "    "
   ]
  },
  {
   "cell_type": "markdown",
   "metadata": {},
   "source": [
    "\n",
    "STEP 1: MOVE THE FILES IN A COMMON FODLER FOR ANALYSIS\n",
    "        "
   ]
  },
  {
   "cell_type": "code",
   "execution_count": 71,
   "metadata": {},
   "outputs": [],
   "source": [
    "# Set the working directory path\n",
    "#it should point to the directory that is two levels up from CBIS-DDSM folder\n",
    "#Dataset/AllAllDataDes2/CBIS-DDSM/Calc-Test_P_00038_LEFT_CC/08-29-2017-DDSM-96009/1-full mammogram images-63992\n",
    "import os\n",
    "os. chdir(\"/Users/anshumansingh/Documents/BMI260/BMI260-PS3/Dataset/\")\n"
   ]
  },
  {
   "cell_type": "code",
   "execution_count": 72,
   "metadata": {},
   "outputs": [],
   "source": [
    "%%bash\n",
    "\n",
    "#the above command is bash shell magic. \n",
    "#It must be used alone and must be the first command of the cell\n",
    "\n",
    "path_dataset=$(pwd)\n",
    "#REMEMBER THE WORKING DIRECTORY MUST BE TWO LEVELS UP FROM CBIS-DDSM\n",
    "#Dataset/AllAllDataDes2/CBIS-DDSM/Calc-Test_P_00038_LEFT_CC/08-29-2017-DDSM-96009/1-full mammogram images-63992\n",
    "#*********\n",
    "\n",
    "#get all the files \n",
    "for a in CALC-TEST-ROI/*/*/*/*/\n",
    "do \t\n",
    "cd \"${a}\"||!continue;#change directory\n",
    "#get the patient id and information on the mamogram.\n",
    "#This will be used for renaming the dicom files\n",
    "#-f3 indicates the split part. \n",
    "#This again assumes THE WORKING DIRECTORY MUST BE TWO LEVELS UP FROM CBIS-DDSM\n",
    "p_2=\"$(cut -d'/' -f3 <<<\"$a\")\"; \n",
    "path2=$(pwd); #path of actual dicom file\n",
    "count=0 #realized there could be more than 1 dicom file per folder\n",
    "file2=$(ls *.dcm) #lists the dicom files\n",
    "for i in $file2; #looping through all dicom images per file\n",
    "do \n",
    "p_3=$p_2'_'$count'.dcm'; # creates a new file name with patient info and file number\n",
    "pathOut=$path_dataset'/'$p_3 #set the output path\n",
    "count=$((count+1))\n",
    "cp \"$i\" \"$pathOut\"; #copy the images to new path.rename them\n",
    "done\t\n",
    "cd \"$path_dataset\" #chnage the directory back to working directory\n",
    "done\n",
    "mkdir newDir #create a new directory to move renamed dicom files.\n",
    "mv ./*.dcm ./newDir"
   ]
  },
  {
   "cell_type": "code",
   "execution_count": null,
   "metadata": {},
   "outputs": [],
   "source": [
    "Step 2:convert dicom to jpeg   "
   ]
  },
  {
   "cell_type": "code",
   "execution_count": 73,
   "metadata": {},
   "outputs": [
    {
     "name": "stdout",
     "output_type": "stream",
     "text": [
      "FINISHED\n"
     ]
    }
   ],
   "source": [
    "os. chdir(\"/Users/anshumansingh/Documents/BMI260/BMI260-PS3/Dataset/CALC-TEST-ROI/newDir\")\n",
    "def convert_from_dicom_to_jpg(img,low_window,high_window,save_path):\n",
    "    lungwin = np.array([low_window*1.,high_window*1.])\n",
    "    newimg = (img-lungwin[0])/(lungwin[1]-lungwin[0])    #Normalized\n",
    "    newimg = (newimg*255).astype('uint8')                #Extend the pixel value to[0,255]\n",
    "    cv2.imwrite(save_path, newimg, [int(cv2.IMWRITE_JPEG_QUALITY), 100])   \n",
    "for name in glob.glob('*.dcm'):\n",
    "    nameSplit=name.split(\".\")\n",
    "    jpgName= nameSplit[0]+\".jpg\"\n",
    "    ds_array = sitk.ReadImage(name)\n",
    "    img_array = sitk.GetArrayFromImage(ds_array)      #Get array\n",
    "    shape = img_array.shape\n",
    "    img_array = np.reshape(img_array, (shape[1], shape[2]))  #Get the height and width in the array\n",
    "    high = np.max(img_array)\n",
    "    low = np.min(img_array)\n",
    "    convert_from_dicom_to_jpg(img_array, low, high, jpgName)   #Call the function, convert it to a jpg file and save it to the corresponding path\n",
    "print('FINISHED')\n",
    "\n",
    "\n",
    "\n",
    "\n",
    "\n",
    "\n"
   ]
  },
  {
   "cell_type": "markdown",
   "metadata": {},
   "source": [
    "Step 3: Use FCM to find ROI and segmentation\n",
    "\n",
    "\n"
   ]
  },
  {
   "cell_type": "code",
   "execution_count": null,
   "metadata": {},
   "outputs": [],
   "source": []
  },
  {
   "cell_type": "code",
   "execution_count": null,
   "metadata": {},
   "outputs": [],
   "source": []
  },
  {
   "cell_type": "code",
   "execution_count": null,
   "metadata": {},
   "outputs": [],
   "source": []
  },
  {
   "cell_type": "markdown",
   "metadata": {},
   "source": [
    "Step 4: FIND HARLICK FEATURES. These features are found on Image patch size 50, angles [0,45, 90, 135, 180] \n",
    "    and distances [0,1,2]. The features extracted are \n",
    "    [contrast, dissimilarity,homogeneity, energy, correlation, ASM]"
   ]
  },
  {
   "cell_type": "code",
   "execution_count": 110,
   "metadata": {},
   "outputs": [
    {
     "name": "stdout",
     "output_type": "stream",
     "text": [
      "FUNCTIONS FOR HARLICK FEATURES AND FILE WRITE\n",
      "2019-05-26 12:36:48.949871\n"
     ]
    }
   ],
   "source": [
    "print(\"FUNCTIONS FOR HARLICK FEATURES AND FILE WRITE\")\n",
    "import glob\n",
    "from skimage.feature import greycomatrix, greycoprops\n",
    "from matplotlib import pyplot as plt\n",
    "import image_slicer\n",
    "#from PIL import Image\n",
    "from PIL import ImageDraw, ImageFont, Image\n",
    "from skimage.io import imread\n",
    "from skimage import color\n",
    "import cv2\n",
    "import numpy as np\n",
    "import datetime\n",
    "print(datetime.datetime.now())\n",
    "\n",
    "angleArray=np.array([np.deg2rad(0), np.deg2rad(45), np.deg2rad(90), np.deg2rad(135),np.deg2rad(180)])\n",
    "dist=np.array([0,1,2])\n",
    "            \n",
    "            \n",
    "#print (len(listOfColumns))\n",
    "def harFeature(name,allkeys,imageClass):\n",
    "\n",
    "    imageFeature={}\n",
    "    #print(name)\n",
    "    im = imread(name)#.convert(\"LA\")\n",
    "    imCropped=im\n",
    "    imCropped_uint8=np.uint8(imCropped)\n",
    "    #image tile list\n",
    "    PatchSize=50\n",
    "    patchNum=0\n",
    "    for y in range (0, imCropped.shape[0], PatchSize):\n",
    "        for x in range (0,imCropped.shape[1], PatchSize):\n",
    "            #print(x,y)\n",
    "            tileTemp=imCropped_uint8[y:y+PatchSize,x:x+PatchSize]\n",
    "            glcm=0\n",
    "            patchNum=patchNum+1\n",
    "            for k in angleArray:\n",
    "                for d in dist:\n",
    "                    ang=k\n",
    "                    k=np.array(k,ndmin=1)\n",
    "                    #print(k)\n",
    "                    glcm=greycomatrix(tileTemp, distances=[d],angles=k, levels=256, symmetric=True)\n",
    "                    \n",
    "                    val=(str(ang)+'-'+str(d)+'-'+'contrast'+'-'+str(patchNum))\n",
    "                    cont=greycoprops(glcm, 'contrast')\n",
    "                    imageFeature[val]=cont[0][0]\n",
    "                    \n",
    "                    if val not in allKeys:\n",
    "                        allKeys[val]=1\n",
    "                    \n",
    "                    val=(str(ang)+'-'+str(d)+'-'+'dissimilarity'+'-'+str(patchNum))\n",
    "                    diss=greycoprops(glcm, 'dissimilarity')\n",
    "                    imageFeature[val]=diss[0][0]\n",
    "                    \n",
    "                    if val not in allKeys:\n",
    "                        allKeys[val]=1\n",
    "                    \n",
    "                    val=(str(ang)+'-'+str(d)+'-'+'homogeneity'+'-'+str(patchNum))\n",
    "                    homo=greycoprops(glcm, 'homogeneity')\n",
    "                    imageFeature[val.strip()]=homo[0][0]\n",
    "                   \n",
    "                    if val not in allKeys:\n",
    "                        allKeys[val]=1\n",
    "                    \n",
    "                    val=(str(ang)+'-'+str(d)+'-'+'energy'+'-'+str(patchNum))\n",
    "                    enr=greycoprops(glcm, 'energy')\n",
    "                    imageFeature[val]=enr[0][0]\n",
    "                    \n",
    "                    if val not in allKeys:\n",
    "                        allKeys[val]=1\n",
    "                    \n",
    "                    val=(str(ang)+'-'+str(d)+'-'+'correlation'+'-'+str(patchNum))\n",
    "                    corr=greycoprops(glcm, 'correlation')\n",
    "                    imageFeature[val]=corr[0][0]\n",
    "                    \n",
    "                    if val not in allKeys:\n",
    "                        allKeys[val]=1\n",
    "                    \n",
    "                    val=(str(ang)+'-'+str(d)+'-'+'ASM'+'-'+str(patchNum))\n",
    "                    asm=greycoprops(glcm, 'ASM')\n",
    "                    imageFeature[val]=asm[0][0]\n",
    "                    \n",
    "                    if val not in allKeys:\n",
    "                        allKeys[val]=1\n",
    "                #print(col)\n",
    "    imageFeature['class']=imageClass\n",
    "    \n",
    "    #listOfImages.append(imageFeature)\n",
    "    return(imageFeature,allKeys)\n",
    "    \n",
    "def fileWrite(fileName,allKeys,listOfImages):\n",
    "    import csv\n",
    "\n",
    "    w = open(fileName, \"w\")\n",
    "    for key in allKeys:\n",
    "        if key!='class':\n",
    "            w.write(key.strip())\n",
    "            w.write(\",\")\n",
    "        else:\n",
    "            print(allKeys[key])\n",
    "    w.write('class\\n')\n",
    "    for x in (listOfImages):\n",
    "        for key in allKeys:\n",
    "            if key in x and key!='class':\n",
    "                w.write(str(x[key]))\n",
    "                w.write(\",\")\n",
    "            elif key not in x and key!='class':\n",
    "                w.write('0')\n",
    "                w.write(\",\")\n",
    "\n",
    "        w.write(x['class'])\n",
    "        w.write('\\n')\n"
   ]
  },
  {
   "cell_type": "markdown",
   "metadata": {},
   "source": [
    "Step 5: create training and test data for MASS and Calcification Lesions. Dataframe creation."
   ]
  },
  {
   "cell_type": "code",
   "execution_count": 81,
   "metadata": {},
   "outputs": [
    {
     "name": "stdout",
     "output_type": "stream",
     "text": [
      "MASS TRAINING\n",
      "MASS BENIGN\n",
      "BENIGN COUNT: 63\n",
      "2019-05-26 11:00:15.202917\n",
      "MASS MALIGNANT\n",
      "MALIGNANT COUNT: 54\n",
      "2019-05-26 11:04:34.618132\n",
      "MASS TEST\n",
      "MASS BENIGN\n",
      "BENIGN COUNT: 17\n",
      "2019-05-26 11:05:34.503805\n",
      "MASS MALIGNANT\n",
      "MALIGNANT COUNT: 16\n",
      "2019-05-26 11:06:32.295800\n",
      "CREATE MASS TRAINING FILE\n",
      "0\n",
      "CREATE MASS TEST FILE\n",
      "0\n"
     ]
    }
   ],
   "source": [
    "#CREATING MASS TRAINING DATA#\n",
    "import os\n",
    "print(\"MASS TRAINING\")\n",
    "os. chdir(\"/Users/anshumansingh/Documents/BMI260/BMI260-PS3/Dataset/MASS-Train-ROI/newDir/jpg/box/benign\")\n",
    "\n",
    "listOfImagesMassTrain=[]\n",
    "allKeysMassTrain={}\n",
    "allKeysMassTrain['class']=0\n",
    "#allKeys['0']=1\n",
    "beninCount=0\n",
    "tempImageList={}\n",
    "print(\"MASS BENIGN\")\n",
    "for name in glob.glob('*.jpg'):\n",
    "    beninCount=beninCount+1\n",
    "    tempImageList,allKeysMassTrain=harFeature(name,allKeysMassTrain,'b')\n",
    "    listOfImagesMassTrain.append(tempImageList)\n",
    "    tempImageList={}\n",
    "print(\"BENIGN COUNT:\",beninCount)\n",
    "print(datetime.datetime.now())\n",
    "\n",
    "os. chdir(\"/Users/anshumansingh/Documents/BMI260/BMI260-PS3/Dataset/MASS-Train-ROI/newDir/jpg/box/malig\")\n",
    "print(\"MASS MALIGNANT\")\n",
    "maligCount=0\n",
    "for name in glob.glob('*.jpg'):\n",
    "    maligCount=maligCount+1\n",
    "    tempImageList,allKeysMassTrain=harFeature(name,allKeysMassTrain,'m')\n",
    "    listOfImagesMassTrain.append(tempImageList)\n",
    "    tempImageList={}\n",
    "print('MALIGNANT COUNT:',maligCount)\n",
    "print(datetime.datetime.now())\n",
    "\n",
    "#CREATING MASS TEST DATA#\n",
    "print(\"MASS TEST\")\n",
    "os.chdir(\"/Users/anshumansingh/Documents/BMI260/BMI260-PS3/Dataset/MASS-TEST-ROI/newDir/jpg/crop/benign\")\n",
    "\n",
    "listOfImagesMassTest=[]\n",
    "tempImageList={}\n",
    "beninCount=0\n",
    "print(\"MASS BENIGN\")\n",
    "for name in glob.glob('*.jpg'):\n",
    "    beninCount=beninCount+1\n",
    "    tempImageList,allKeysMassTrain=harFeature(name,allKeysMassTrain,'b')\n",
    "    listOfImagesMassTest.append(tempImageList)\n",
    "    tempImageList={}\n",
    "print(\"BENIGN COUNT:\",beninCount)\n",
    "print(datetime.datetime.now())\n",
    "\n",
    "os.chdir(\"/Users/anshumansingh/Documents/BMI260/BMI260-PS3/Dataset/MASS-TEST-ROI/newDir/jpg/crop/malig\")\n",
    "print(\"MASS MALIGNANT\")\n",
    "maligCount=0\n",
    "for name in glob.glob('*.jpg'):\n",
    "    maligCount=maligCount+1\n",
    "    tempImageList,allKeysMassTrain=harFeature(name,allKeysMassTrain,'m')\n",
    "    listOfImagesMassTest.append(tempImageList)\n",
    "    tempImageList={}\n",
    "print('MALIGNANT COUNT:',maligCount)\n",
    "\n",
    "print(datetime.datetime.now())\n",
    "\n",
    "os. chdir(\"/Users/anshumansingh/Documents/BMI260/BMI260-PS3/Dataset/MASS-Train-ROI/newDir/jpg/box/\")\n",
    "print('CREATE MASS TRAINING FILE')\n",
    "fileName=\"output-mass-train.csv\"\n",
    "fileWrite(fileName,allKeysMassTrain,listOfImagesMassTrain)\n",
    "\n",
    "os. chdir(\"/Users/anshumansingh/Documents/BMI260/BMI260-PS3/Dataset/MASS-TEST-ROI/newDir/jpg/crop\")\n",
    "print('CREATE MASS TEST FILE')\n",
    "fileName=\"output-mass-test.csv\"\n",
    "fileWrite(fileName,allKeysMassTrain,listOfImagesMassTest)\n"
   ]
  },
  {
   "cell_type": "code",
   "execution_count": 111,
   "metadata": {},
   "outputs": [
    {
     "name": "stdout",
     "output_type": "stream",
     "text": [
      "CALC TRAINING\n",
      "CALC BENIGN\n",
      "BENIGN COUNT: 103\n",
      "2019-05-26 12:44:16.966885\n",
      "CAL MALIGNANT\n",
      "MALIGNANT COUNT: 52\n",
      "CALC TEST\n",
      "CALC BENIGN\n",
      "BENIGN COUNT: 38\n",
      "2019-05-26 13:28:13.482145\n",
      "CAL MALIGNANT\n",
      "MALIGNANT COUNT: 7\n",
      "2019-05-26 13:29:34.608370\n",
      "CREATE CALC TRAINING FILE\n",
      "0\n",
      "2019-05-26 13:29:41.898923\n",
      "CREATE CALC TEST FILE\n",
      "0\n"
     ]
    }
   ],
   "source": [
    "#CREATING CALC TRAINING DATA#\n",
    "import os\n",
    "print(\"CALC TRAINING\")\n",
    "os.chdir(\"/Users/anshumansingh/Documents/BMI260/BMI260-PS3/Dataset/CALC-TRAIN-ROI/newDir/jpg/crop/benign\")\n",
    "\n",
    "listOfImagesCalcTrain=[]\n",
    "allKeysCalcTrain={}\n",
    "allKeysCalcTrain['class']=0\n",
    "tempImageList={}\n",
    "beninCount=0\n",
    "print(\"CALC BENIGN\")\n",
    "for name in glob.glob('*.jpg'):\n",
    "    beninCount=beninCount+1\n",
    "    tempImageList,allKeysCalcTrain=harFeature(name,allKeysCalcTrain,'b')\n",
    "    listOfImagesCalcTrain.append(tempImageList)\n",
    "    tempImageList={}\n",
    "print(\"BENIGN COUNT:\",beninCount)\n",
    "print(datetime.datetime.now())\n",
    "\n",
    "os.chdir(\"/Users/anshumansingh/Documents/BMI260/BMI260-PS3/Dataset/CALC-TRAIN-ROI/newDir/jpg/crop/malig\")\n",
    "print(\"CAL MALIGNANT\")\n",
    "maligCount=0\n",
    "for name in glob.glob('*.jpg'):\n",
    "    maligCount=maligCount+1\n",
    "    tempImageList,allKeysCalcTrain=harFeature(name,allKeysCalcTrain,'m')\n",
    "    listOfImagesCalcTrain.append(tempImageList)\n",
    "    tempImageList={}\n",
    "print('MALIGNANT COUNT:',maligCount)\n",
    "\n",
    "#CREATING CALC TEST DATA#\n",
    "import os\n",
    "print(\"CALC TEST\")\n",
    "os.chdir(\"/Users/anshumansingh/Documents/BMI260/BMI260-PS3/Dataset/CALC-TEST-ROI/newDir/jpg/crop/benign\")\n",
    "\n",
    "listOfImagesCalcTest=[]\n",
    "tempImageList={}\n",
    "beninCount=0\n",
    "print(\"CALC BENIGN\")\n",
    "for name in glob.glob('*.jpg'):\n",
    "    beninCount=beninCount+1\n",
    "    tempImageList,allKeysCalcTrain=harFeature(name,allKeysCalcTrain,'b')\n",
    "    listOfImagesCalcTest.append(tempImageList)\n",
    "    tempImageList={}\n",
    "print(\"BENIGN COUNT:\",beninCount)\n",
    "print(datetime.datetime.now())\n",
    "\n",
    "os.chdir(\"/Users/anshumansingh/Documents/BMI260/BMI260-PS3/Dataset/CALC-TEST-ROI/newDir/jpg/crop/malig\")\n",
    "print(\"CAL MALIGNANT\")\n",
    "maligCount=0\n",
    "for name in glob.glob('*.jpg'):\n",
    "    maligCount=maligCount+1\n",
    "    tempImageList,allKeysCalcTrain=harFeature(name,allKeysCalcTrain,'m')\n",
    "    listOfImagesCalcTest.append(tempImageList)\n",
    "    tempImageList={}\n",
    "print('MALIGNANT COUNT:',maligCount)\n",
    "print(datetime.datetime.now())\n",
    "os. chdir(\"/Users/anshumansingh/Documents/BMI260/BMI260-PS3/Dataset/CALC-TRAIN-ROI/newDir/jpg/crop/\")\n",
    "print('CREATE CALC TRAINING FILE')\n",
    "fileName=\"output-calc-train.csv\"\n",
    "fileWrite(fileName,allKeysCalcTrain,listOfImagesCalcTrain)\n",
    "\n",
    "print(datetime.datetime.now())\n",
    "os. chdir(\"/Users/anshumansingh/Documents/BMI260/BMI260-PS3/Dataset/CALC-TEST-ROI/newDir/jpg/crop\")\n",
    "print('CREATE CALC TEST FILE')\n",
    "fileName=\"output-calc-test.csv\"\n",
    "fileWrite(fileName,allKeysCalcTrain,listOfImagesCalcTest)"
   ]
  },
  {
   "cell_type": "code",
   "execution_count": 4,
   "metadata": {},
   "outputs": [
    {
     "name": "stdout",
     "output_type": "stream",
     "text": [
      "dataframe creation\n"
     ]
    }
   ],
   "source": [
    "#Data loading for classification \n",
    "print(\"dataframe creation\")\n",
    "from sklearn.preprocessing import label_binarize\n",
    "import numpy as np\n",
    "from skimage import io\n",
    "from skimage.viewer import ImageViewer\n",
    "import pandas as pd\n",
    "\n",
    "dataMassTrain = pd.read_csv(\"/Users/anshumansingh/Documents/BMI260/BMI260-PS3/Dataset/MASS-Train-ROI/newDir/jpg/box/output-mass-train.csv\") \n",
    "dfMassTrain=pd.DataFrame(dataMassTrain[:][:])\n",
    "dataMassTest=pd.read_csv(\"/Users/anshumansingh/Documents/BMI260/BMI260-PS3/Dataset/MASS-TEST-ROI/newDir/jpg/crop/output-mass-test.csv\")\n",
    "dfMassTest=pd.DataFrame(dataMassTest[:][:])\n",
    "XMassTrain = dfMassTrain.drop(\"class\",1)   #Feature Matrix\n",
    "yMassTrain = dfMassTrain[\"class\"]          #Target Variable\n",
    "yMassTrain=label_binarize(yMassTrain, classes=['b', 'm'])\n",
    "XMassTest=dfMassTest.drop(\"class\",1)\n",
    "yMassTest= dfMassTest[\"class\"] \n",
    "yMassTest=label_binarize(yMassTest, classes=['b', 'm'])\n",
    "\n",
    "dataCalcTrain = pd.read_csv(\"/Users/anshumansingh/Documents/BMI260/BMI260-PS3/Dataset/CALC-TRAIN-ROI/newDir/jpg/crop/output-calc-train.csv\") \n",
    "dfCalcTrain=pd.DataFrame(dataCalcTrain[:][:])\n",
    "dataCalcTest=pd.read_csv(\"/Users/anshumansingh/Documents/BMI260/BMI260-PS3/Dataset/CALC-TEST-ROI/newDir/jpg/crop/output-calc-test.csv\")\n",
    "dfCalcTest=pd.DataFrame(dataCalcTest[:][:])\n",
    "\n",
    "XCalcTrain = dfCalcTrain.drop(\"class\",1)   #Feature Matrix\n",
    "yCalcTrain = dfCalcTrain[\"class\"]          #Target Variable\n",
    "yCalcTrain=label_binarize(yCalcTrain, classes=['b', 'm'])\n",
    "XCalcTest=dfCalcTest.drop(\"class\",1)\n",
    "yCalcTest= dfCalcTest[\"class\"] \n",
    "yCalcTest=label_binarize(yCalcTest, classes=['b', 'm'])"
   ]
  },
  {
   "cell_type": "markdown",
   "metadata": {},
   "source": [
    "step 6: Classifier training and model selection and evaluation"
   ]
  },
  {
   "cell_type": "code",
   "execution_count": 9,
   "metadata": {},
   "outputs": [],
   "source": [
    "#perform machine learning\n",
    "#feature selection\n",
    "#model training\n",
    "#model selection\n",
    "#model evaluation\n",
    "import warnings\n",
    "warnings.filterwarnings('ignore')\n",
    "import csv\n",
    "import os\n",
    "import scipy \n",
    "import numpy as np\n",
    "from skimage import io\n",
    "from skimage.viewer import ImageViewer\n",
    "import pandas as pd\n",
    "from sklearn import linear_model\n",
    "import math\n",
    "from sklearn.ensemble import RandomForestClassifier,GradientBoostingClassifier,AdaBoostClassifier\n",
    "from sklearn.model_selection import cross_validate, train_test_split\n",
    "from sklearn import svm\n",
    "from sklearn.metrics import confusion_matrix, accuracy_score, roc_curve, auc\n",
    "import matplotlib.pyplot as plt\n",
    "#from sklearn.metrics import \n",
    "from sklearn.linear_model import LogisticRegression\n",
    "from sklearn.feature_selection import mutual_info_classif\n",
    "from sklearn.feature_selection import SelectFromModel\n",
    "import pandas as pd \n",
    "import matplotlib.pyplot as plt\n",
    "from itertools import cycle\n",
    "from sklearn.preprocessing import label_binarize\n",
    "from sklearn.multiclass import OneVsRestClassifier\n",
    "from scipy import interp\n",
    "from sklearn.metrics import f1_score\n",
    "from sklearn.pipeline import Pipeline\n",
    "\n",
    "from sklearn.svm import LinearSVC, NuSVC, SVC\n",
    "from sklearn.neighbors import KNeighborsClassifier\n",
    "from sklearn.linear_model import LogisticRegressionCV, LogisticRegression, SGDClassifier\n",
    "from sklearn.ensemble import BaggingClassifier, ExtraTreesClassifier, RandomForestClassifier\n",
    "from mlxtend.feature_selection import SequentialFeatureSelector as sfs\n",
    "from sklearn.feature_selection import SelectKBest\n",
    "from sklearn.feature_selection import chi2\n",
    "\n",
    "\n",
    "\n",
    "def classifierBuild( XMassTrain, yMassTrain, XMassTest, yMassTest, estimator):#, feat_cols):\n",
    "    #training and test DF\n",
    "    #estimator\n",
    "    #feature columns of selected features\n",
    "    print('perform machine learning \\n feature selection \\n model training \\n model selection \\n model evaluation')\n",
    "    print(\" Build model, validate and test\")\n",
    "    X_train, X_test, y_train, y_test = train_test_split(XMassTrain, yMassTrain, test_size=0.1, random_state=0)\n",
    "    \n",
    "    y_train =y_train.ravel()\n",
    "    print(y_train.shape)\n",
    "    print(yMassTrain.shape)\n",
    "    y_test =y_test.ravel()\n",
    "    \n",
    "    #feat_cols=featureSelection(X_train, y_train)\n",
    "    X_train_fs=X_train#[:, feat_cols]\n",
    "    X_test_fs=X_test#[:, feat_cols]\n",
    "    X_unseen_fs=XMassTest#[:, feat_cols]\n",
    "    \n",
    " \n",
    "\n",
    "    clf = Pipeline([('estimator', estimator)])\n",
    "\n",
    "    # Instantiate the classification model and visualizer\n",
    "    clf.fit(X_train_fs, y_train)\n",
    "    #clf = svm.SVC(kernel='linear', C=1).fit(X_train, y_train)\n",
    "    print(\"Training the model: \\nValidation set 10% of total train:\", clf.score(X_test_fs, y_test))\n",
    "    #Predict the response for test dataset\n",
    "    y_pred = clf.predict(X_unseen_fs)\n",
    "    print(\"Accuracy:\",accuracy_score(yMassTest, y_pred))\n",
    "    # Model Precision: what percentage of positive tuples are labeled as such?\n",
    "    print(\"Precision:\",metrics.precision_score(yMassTest, y_pred))\n",
    "    # Model Recall: what percentage of positive tuples are labelled as such?\n",
    "    print(\"Recall:\",metrics.recall_score(yMassTest, y_pred))\n",
    "    \n",
    "    print(\"confusion matrix:\", confusion_matrix(yMassTest, y_pred))\n",
    " #https://scikit-learn.org/stable/auto_examples/model_selection/plot_roc.html   \n",
    "    y_score = np.array(clf.fit(X_train_fs, y_train).decision_function(X_test_fs))\n",
    "    y_test_array=np.array(y_test)\n",
    "\n",
    "    fpr, tpr, thresholds = roc_curve(y_test, y_score)\n",
    "    roc_auc = auc(fpr, tpr)\n",
    "\n",
    "    plt.figure()\n",
    "    plt.plot(fpr, tpr, color='darkorange', lw=1, label='ROC curve (area = %0.2f)' % roc_auc)\n",
    "    plt.plot([0, 1], [0, 1], color='navy', lw=1, linestyle='--')\n",
    "    plt.xlim([0.0, 1.0])\n",
    "    plt.ylim([0.0, 1.05])\n",
    "    plt.xlabel('False Positive Rate')\n",
    "    plt.ylabel('True Positive Rate')\n",
    "    plt.title('Receiver operating characteristic')\n",
    "    plt.legend(loc=\"lower right\")\n",
    "    plt.show()\n",
    "\n",
    "#**********\n"
   ]
  },
  {
   "cell_type": "code",
   "execution_count": 250,
   "metadata": {},
   "outputs": [
    {
     "name": "stdout",
     "output_type": "stream",
     "text": [
      "Classifier Mass: Linear SVM\n",
      "perform machine learning \n",
      " feature selection \n",
      " model training \n",
      " model selection \n",
      " model evaluation\n",
      " Build model, validate and test\n",
      "(105,)\n",
      "(117, 1)\n",
      "Training the model: \n",
      "Validation set 10% of total train: 0.75\n",
      "Accuracy: 0.5151515151515151\n",
      "Precision: 0.5\n",
      "Recall: 0.5625\n",
      "confusion matrix: [[8 9]\n",
      " [7 9]]\n"
     ]
    },
    {
     "data": {
      "image/png": "[encoded data removed]",
      "text/plain": [
       "<Figure size 576x396 with 1 Axes>"
      ]
     },
     "metadata": {},
     "output_type": "display_data"
    }
   ],
   "source": [
    "print('Classifier Mass: Linear SVM')\n",
    "classifierBuild( XMassTrain, yMassTrain, XMassTest, yMassTest, LinearSVC())"
   ]
  },
  {
   "cell_type": "markdown",
   "metadata": {},
   "source": [
    "FIGURE 1: ROC MASS- FULL FEATURES. CLASSIFIER: LINEAR SVM\n",
    "AUC: 83%"
   ]
  },
  {
   "cell_type": "code",
   "execution_count": 251,
   "metadata": {},
   "outputs": [
    {
     "name": "stdout",
     "output_type": "stream",
     "text": [
      "Classifier Calc: Linear SVM\n",
      "perform machine learning \n",
      " feature selection \n",
      " model training \n",
      " model selection \n",
      " model evaluation\n",
      " Build model, validate and test\n",
      "(139,)\n",
      "(155, 1)\n",
      "Training the model: \n",
      "Validation set 10% of total train: 0.625\n",
      "Accuracy: 0.5333333333333333\n",
      "Precision: 0.1111111111111111\n",
      "Recall: 0.2857142857142857\n",
      "confusion matrix: [[22 16]\n",
      " [ 5  2]]\n"
     ]
    },
    {
     "data": {
      "image/png": "[encoded data removed]",
      "text/plain": [
       "<Figure size 576x396 with 1 Axes>"
      ]
     },
     "metadata": {},
     "output_type": "display_data"
    }
   ],
   "source": [
    "print('Classifier Calc: Linear SVM')\n",
    "classifierBuild( XCalcTrain, yCalcTrain, XCalcTest, yCalcTest, LinearSVC())"
   ]
  },
  {
   "cell_type": "markdown",
   "metadata": {},
   "source": [
    "FIGURE 2: ROC CALCIFICATION- FULL FEATURES. CLASSIFIER: LINEAR SVM\n",
    "AUC: 60%"
   ]
  },
  {
   "cell_type": "code",
   "execution_count": 252,
   "metadata": {},
   "outputs": [
    {
     "name": "stdout",
     "output_type": "stream",
     "text": [
      "Classifier Mass:Logistic Regression\n",
      "perform machine learning \n",
      " feature selection \n",
      " model training \n",
      " model selection \n",
      " model evaluation\n",
      " Build model, validate and test\n",
      "(105,)\n",
      "(117, 1)\n",
      "Training the model: \n",
      "Validation set 10% of total train: 0.75\n",
      "Accuracy: 0.48484848484848486\n",
      "Precision: 0.47368421052631576\n",
      "Recall: 0.5625\n",
      "confusion matrix: [[ 7 10]\n",
      " [ 7  9]]\n"
     ]
    },
    {
     "data": {
      "image/png": "[encoded data removed]",
      "text/plain": [
       "<Figure size 576x396 with 1 Axes>"
      ]
     },
     "metadata": {},
     "output_type": "display_data"
    }
   ],
   "source": [
    "print('Classifier Mass:Logistic Regression')\n",
    "classifierBuild( XMassTrain, yMassTrain, XMassTest, yMassTest, LogisticRegression())"
   ]
  },
  {
   "cell_type": "markdown",
   "metadata": {},
   "source": [
    "FIGURE 3: ROC MASS- FULL FEATURES. CLASSIFIER: LOGISTIC REGRESSION\n",
    "AUC: 86%"
   ]
  },
  {
   "cell_type": "code",
   "execution_count": 253,
   "metadata": {},
   "outputs": [
    {
     "name": "stdout",
     "output_type": "stream",
     "text": [
      "Classifier Calc:Logistic Regression\n",
      "perform machine learning \n",
      " feature selection \n",
      " model training \n",
      " model selection \n",
      " model evaluation\n",
      " Build model, validate and test\n",
      "(139,)\n",
      "(155, 1)\n",
      "Training the model: \n",
      "Validation set 10% of total train: 0.625\n",
      "Accuracy: 0.5555555555555556\n",
      "Precision: 0.15789473684210525\n",
      "Recall: 0.42857142857142855\n",
      "confusion matrix: [[22 16]\n",
      " [ 4  3]]\n"
     ]
    },
    {
     "data": {
      "image/png": "[encoded data removed]",
      "text/plain": [
       "<Figure size 576x396 with 1 Axes>"
      ]
     },
     "metadata": {},
     "output_type": "display_data"
    }
   ],
   "source": [
    "print('Classifier Calc:Logistic Regression')\n",
    "classifierBuild( XCalcTrain, yCalcTrain, XCalcTest, yCalcTest, LogisticRegression())"
   ]
  },
  {
   "cell_type": "markdown",
   "metadata": {},
   "source": [
    "FIGURE 4: ROC CALCIFICATION- FULL FEATURES. CLASSIFIER: LOGISTIC REGRESSION\n",
    "AUC: 57%"
   ]
  },
  {
   "cell_type": "markdown",
   "metadata": {},
   "source": [
    "Step 7: Dimensionality reduction and evaluation"
   ]
  },
  {
   "cell_type": "code",
   "execution_count": 6,
   "metadata": {},
   "outputs": [],
   "source": [
    "#X_new = SelectKBest(chi2, k=100).fit_transform(XMassTrain, yMassTrain.ravel())\n",
    "#print(X_new.shape)\n",
    "import warnings\n",
    "warnings.filterwarnings('ignore')\n",
    "def featureSelection(X_train, y_train):\n",
    "    #https://www.kdnuggets.com/2018/06/step-forward-feature-selection-python.html\n",
    "    #STEP FORWARD FEATURE SELECTION\n",
    "    print('feature selection')\n",
    "\n",
    "\n",
    "    test = SelectKBest(score_func=chi2, k=500)\n",
    "    fit = test.fit(X_train, y_train)\n",
    "    features = fit.transform(X_train)\n",
    "    return(features,fit)\n"
   ]
  },
  {
   "cell_type": "code",
   "execution_count": 7,
   "metadata": {},
   "outputs": [],
   "source": [
    "import matplotlib.pyplot as plt\n",
    "\n",
    "from sklearn.pipeline import Pipeline\n",
    "from yellowbrick.classifier import ClassificationReport\n",
    "from yellowbrick.classifier import ConfusionMatrix\n",
    "import warnings\n",
    "warnings.filterwarnings('ignore')\n",
    "\n",
    "def visual_model_selection(XMassTrain, yMassTrain, XMassTest, yMassTest, estimator):\n",
    "    \"\"\"\n",
    "    Test various estimators.\n",
    "    \"\"\"   \n",
    "    X_train, X_test, y_train, y_test = train_test_split(XMassTrain, yMassTrain, test_size=0.1, random_state=0)\n",
    "    \n",
    "    y_train =y_train.ravel()\n",
    "\n",
    "    y_test =y_test.ravel()\n",
    "    \n",
    "    #feat_cols=featureSelection(X_train, y_train)\n",
    "    X_train_fs=X_train#[:, feat_cols]\n",
    "    X_test_fs=X_test#[:, feat_cols]\n",
    "    X_unseen_fs=XMassTest#[:, feat_cols]\n",
    "    \n",
    "    clf = Pipeline([\n",
    "         ('estimator', estimator)\n",
    "    ])\n",
    "\n",
    "    # Instantiate the classification model and visualizer\n",
    "    clf.fit(X_train_fs, y_train)\n",
    "\n",
    "    y_pred = clf.predict(X_unseen_fs)\n",
    "    model = LogisticRegression()\n",
    "    cm = ConfusionMatrix(clf, classes=[0,1])\n",
    "\n",
    "# Fit fits the passed model. This is unnecessary if you pass the visualizer a pre-fitted model\n",
    "    cm.fit(X_train, y_train)\n",
    "\n",
    "# To create the ConfusionMatrix, we need some test data. Score runs predict() on the data\n",
    "# and then creates the confusion_matrix from scikit-learn.\n",
    "    cm.score(X_test, y_test)\n",
    "\n",
    "# How did we do?\n",
    "    cm.poof()\n",
    "    y_score = np.array(clf.fit(X_train_fs, y_train).decision_function(X_test_fs))\n",
    "    y_test_array=np.array(y_test)\n",
    "\n",
    "    fpr, tpr, thresholds = roc_curve(y_test, y_score)\n",
    "    roc_auc = auc(fpr, tpr)\n",
    "\n",
    "    plt.figure()\n",
    "    plt.plot(fpr, tpr, color='darkorange', lw=1, label='ROC curve (area = %0.2f)' % roc_auc)\n",
    "    plt.plot([0, 1], [0, 1], color='navy', lw=1, linestyle='--')\n",
    "    plt.xlim([0.0, 1.0])\n",
    "    plt.ylim([0.0, 1.05])\n",
    "    plt.xlabel('False Positive Rate')\n",
    "    plt.ylabel('True Positive Rate')\n",
    "    plt.title('Receiver operating characteristic')\n",
    "    plt.legend(loc=\"lower right\")\n",
    "    plt.show()\n"
   ]
  },
  {
   "cell_type": "code",
   "execution_count": 10,
   "metadata": {},
   "outputs": [
    {
     "name": "stdout",
     "output_type": "stream",
     "text": [
      "2019-05-27 16:06:50.987936\n",
      "feature selection-Mass \n",
      "Mass feature set original shape:   (117, 66241)\n",
      "feature selection\n",
      "2019-05-27 16:06:52.594893\n",
      "feature selection-Calc \n",
      "Calc feature set original shape:   (155, 66241)\n",
      "feature selection\n",
      "2019-05-27 16:06:53.641708\n"
     ]
    }
   ],
   "source": [
    "import datetime\n",
    "import warnings\n",
    "warnings.filterwarnings('ignore')\n",
    "print(datetime.datetime.now())\n",
    "print(\"feature selection-Mass \")\n",
    "print('Mass feature set original shape:  ',dfMassTrain.shape)\n",
    "XMassTrainFS,fit=featureSelection(XMassTrain, yMassTrain.ravel())\n",
    "XMassTestFS=fit.transform(XMassTest)\n",
    "#print(\"new featureset length: \", len(feat1_col_mass))\n",
    "print(datetime.datetime.now())\n",
    "print(\"feature selection-Calc \")\n",
    "print('Calc feature set original shape:  ',dfCalcTrain.shape)\n",
    "XCalcTrainFS,fit=featureSelection(XCalcTrain, yCalcTrain.ravel())\n",
    "XCalcTestFS=fit.transform(XCalcTest)\n",
    "#print(\"new featureset length: \", len(feat1_col_calc))\n",
    "print(datetime.datetime.now())"
   ]
  },
  {
   "cell_type": "code",
   "execution_count": 11,
   "metadata": {},
   "outputs": [
    {
     "data": {
      "image/png": "[encoded data removed]",
      "text/plain": [
       "<Figure size 432x288 with 1 Axes>"
      ]
     },
     "metadata": {
      "needs_background": "light"
     },
     "output_type": "display_data"
    },
    {
     "data": {
      "image/png": "[encoded data removed]",
      "text/plain": [
       "<Figure size 432x288 with 1 Axes>"
      ]
     },
     "metadata": {
      "needs_background": "light"
     },
     "output_type": "display_data"
    },
    {
     "name": "stdout",
     "output_type": "stream",
     "text": [
      "\n",
      " *****After Feature Selection ****** \n",
      "\n"
     ]
    },
    {
     "data": {
      "image/png": "[encoded data removed]",
      "text/plain": [
       "<Figure size 432x288 with 1 Axes>"
      ]
     },
     "metadata": {
      "needs_background": "light"
     },
     "output_type": "display_data"
    },
    {
     "data": {
      "image/png": "[encoded data removed]",
      "text/plain": [
       "<Figure size 432x288 with 1 Axes>"
      ]
     },
     "metadata": {
      "needs_background": "light"
     },
     "output_type": "display_data"
    }
   ],
   "source": [
    "visual_model_selection( XMassTrain, yMassTrain, XMassTest, yMassTest, LinearSVC())\n",
    "print('\\n *****After Feature Selection ****** \\n')\n",
    "visual_model_selection( XMassTrainFS, yMassTrain, XMassTestFS, yMassTest, LinearSVC())"
   ]
  },
  {
   "cell_type": "markdown",
   "metadata": {},
   "source": [
    "FIGURE 5: MASS ON LINEAR- SVM \n",
    "    Feature selection improves the CLASSIFICATION ACCURACY. THERE ARE ALTEAST 2 MALIGNANT CLASSIFIED INTO BENIGN. \n",
    "    MALIGNANT FALSE NEGATIVE IS NOT ACCEPTABLE.\n",
    "    DIMENSIONALITY REDUCTION HAS IMPROVED AUC."
   ]
  },
  {
   "cell_type": "code",
   "execution_count": 12,
   "metadata": {},
   "outputs": [
    {
     "data": {
      "image/png": "[encoded data removed]",
      "text/plain": [
       "<Figure size 432x288 with 1 Axes>"
      ]
     },
     "metadata": {
      "needs_background": "light"
     },
     "output_type": "display_data"
    },
    {
     "data": {
      "image/png": "[encoded data removed]",
      "text/plain": [
       "<Figure size 432x288 with 1 Axes>"
      ]
     },
     "metadata": {
      "needs_background": "light"
     },
     "output_type": "display_data"
    },
    {
     "name": "stdout",
     "output_type": "stream",
     "text": [
      "\n",
      " *****After Feature Selection ****** \n",
      "\n"
     ]
    },
    {
     "data": {
      "image/png": "[encoded data removed]",
      "text/plain": [
       "<Figure size 432x288 with 1 Axes>"
      ]
     },
     "metadata": {
      "needs_background": "light"
     },
     "output_type": "display_data"
    },
    {
     "data": {
      "image/png": "[encoded data removed]",
      "text/plain": [
       "<Figure size 432x288 with 1 Axes>"
      ]
     },
     "metadata": {
      "needs_background": "light"
     },
     "output_type": "display_data"
    }
   ],
   "source": [
    "visual_model_selection( XCalcTrain, yCalcTrain, XCalcTest, yCalcTest, LinearSVC())\n",
    "print('\\n *****After Feature Selection ****** \\n')\n",
    "visual_model_selection( XCalcTrainFS, yCalcTrain, XCalcTestFS, yCalcTest, LinearSVC())"
   ]
  },
  {
   "cell_type": "markdown",
   "metadata": {},
   "source": [
    "FIGURE 6: CALCIFICATION ON LINEAR SVM\n",
    "    FEATURE SELECTION IMPROVES THE ACCURACY BUT THERE IS GREATER MISCLASSSIFICATION OF BENIGN INTO MALIGNANT. \n",
    "    AGAIN 12% FALSE NEGATIVE IS CONCERNING.\n",
    "    MARGINAL IMPROVEMENT IN AUC AFTER DIMENSIONALITY REDUCTION."
   ]
  },
  {
   "cell_type": "code",
   "execution_count": 13,
   "metadata": {},
   "outputs": [
    {
     "name": "stdout",
     "output_type": "stream",
     "text": [
      "Classifier Mass:Logistic Regression\n"
     ]
    },
    {
     "data": {
      "image/png": "[encoded data removed]",
      "text/plain": [
       "<Figure size 432x288 with 1 Axes>"
      ]
     },
     "metadata": {
      "needs_background": "light"
     },
     "output_type": "display_data"
    },
    {
     "data": {
      "image/png": "[encoded data removed]",
      "text/plain": [
       "<Figure size 432x288 with 1 Axes>"
      ]
     },
     "metadata": {
      "needs_background": "light"
     },
     "output_type": "display_data"
    },
    {
     "name": "stdout",
     "output_type": "stream",
     "text": [
      "Classifier Mass:Logistic Regression after feature selection\n"
     ]
    },
    {
     "data": {
      "image/png": "[encoded data removed]",
      "text/plain": [
       "<Figure size 432x288 with 1 Axes>"
      ]
     },
     "metadata": {
      "needs_background": "light"
     },
     "output_type": "display_data"
    },
    {
     "data": {
      "image/png": "[encoded data removed]",
      "text/plain": [
       "<Figure size 432x288 with 1 Axes>"
      ]
     },
     "metadata": {
      "needs_background": "light"
     },
     "output_type": "display_data"
    }
   ],
   "source": [
    "print('Classifier Mass:Logistic Regression')\n",
    "visual_model_selection( XMassTrain, yMassTrain, XMassTest, yMassTest, LogisticRegression())\n",
    "print('Classifier Mass:Logistic Regression after feature selection')\n",
    "visual_model_selection( XCalcTrainFS, yCalcTrain, XCalcTestFS, yCalcTest, LogisticRegression())"
   ]
  },
  {
   "cell_type": "markdown",
   "metadata": {},
   "source": [
    "FIGURE 7:  MASS ON LOGISTIC REGRESSION. REDUCTION IN AUC AFTER DIMENSIONALITY REDUCTION."
   ]
  },
  {
   "cell_type": "code",
   "execution_count": 14,
   "metadata": {},
   "outputs": [
    {
     "name": "stdout",
     "output_type": "stream",
     "text": [
      "Classifier CALC:Logistic Regression\n"
     ]
    },
    {
     "data": {
      "image/png": "[encoded data removed]",
      "text/plain": [
       "<Figure size 432x288 with 1 Axes>"
      ]
     },
     "metadata": {
      "needs_background": "light"
     },
     "output_type": "display_data"
    },
    {
     "data": {
      "image/png": "[encoded data removed]",
      "text/plain": [
       "<Figure size 432x288 with 1 Axes>"
      ]
     },
     "metadata": {
      "needs_background": "light"
     },
     "output_type": "display_data"
    },
    {
     "name": "stdout",
     "output_type": "stream",
     "text": [
      "Classifier CALC:Logistic Regression after Feature Selection\n"
     ]
    },
    {
     "data": {
      "image/png": "[encoded data removed]",
      "text/plain": [
       "<Figure size 432x288 with 1 Axes>"
      ]
     },
     "metadata": {
      "needs_background": "light"
     },
     "output_type": "display_data"
    },
    {
     "data": {
      "image/png": "[encoded data removed]",
      "text/plain": [
       "<Figure size 432x288 with 1 Axes>"
      ]
     },
     "metadata": {
      "needs_background": "light"
     },
     "output_type": "display_data"
    }
   ],
   "source": [
    "print('Classifier CALC:Logistic Regression')\n",
    "visual_model_selection( XCalcTrain, yCalcTrain, XCalcTest, yCalcTest, LogisticRegression())\n",
    "print('Classifier CALC:Logistic Regression after Feature Selection')\n",
    "visual_model_selection( XCalcTrainFS, yCalcTrain, XCalcTestFS, yCalcTest, LogisticRegression())"
   ]
  },
  {
   "cell_type": "markdown",
   "metadata": {},
   "source": [
    " FIGURE 8: CALCIFICATION OF BREATS LESION LOGISTIC REGRESSION\n",
    " CONSIDERABLE IMPROVEMENT IN AUC AFTER DIMENSIONALITY REDUCTION."
   ]
  }
 ],
 "metadata": {
  "kernelspec": {
   "display_name": "Python 3",
   "language": "python",
   "name": "python3"
  },
  "language_info": {
   "codemirror_mode": {
    "name": "ipython",
    "version": 3
   },
   "file_extension": ".py",
   "mimetype": "text/x-python",
   "name": "python",
   "nbconvert_exporter": "python",
   "pygments_lexer": "ipython3",
   "version": "3.7.3"
  }
 },
 "nbformat": 4,
 "nbformat_minor": 2
}
